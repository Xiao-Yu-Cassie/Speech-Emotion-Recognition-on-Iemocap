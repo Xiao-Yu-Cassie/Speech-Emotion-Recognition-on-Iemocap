{
  "nbformat": 4,
  "nbformat_minor": 0,
  "metadata": {
    "colab": {
      "name": "707proj.ipynb",
      "provenance": [],
      "collapsed_sections": [
        "IG7ZEkY0go6j",
        "ywWeAsaF1eVe",
        "yXpYEjzJIT6O",
        "inBeJ8tyz6mM",
        "j2KQxarN1ffe",
        "vk8I4lkJ18FR",
        "gY7Upqnt2XuZ"
      ],
      "toc_visible": true,
      "machine_shape": "hm",
      "include_colab_link": true
    },
    "kernelspec": {
      "display_name": "Python 3",
      "name": "python3"
    },
    "language_info": {
      "name": "python"
    },
    "accelerator": "GPU",
    "widgets": {
      "application/vnd.jupyter.widget-state+json": {
        "e07be73e26f842e8875fa5aa41221e6a": {
          "model_module": "@jupyter-widgets/controls",
          "model_name": "HBoxModel",
          "state": {
            "_view_name": "HBoxView",
            "_dom_classes": [],
            "_model_name": "HBoxModel",
            "_view_module": "@jupyter-widgets/controls",
            "_model_module_version": "1.5.0",
            "_view_count": null,
            "_view_module_version": "1.5.0",
            "box_style": "",
            "layout": "IPY_MODEL_7607def5cfc44047a03a2f7c33f23639",
            "_model_module": "@jupyter-widgets/controls",
            "children": [
              "IPY_MODEL_8a97bcb4894149949fa26426a673f597",
              "IPY_MODEL_37b9f7f3cc204594bd0feb561ca31393"
            ]
          }
        },
        "7607def5cfc44047a03a2f7c33f23639": {
          "model_module": "@jupyter-widgets/base",
          "model_name": "LayoutModel",
          "state": {
            "_view_name": "LayoutView",
            "grid_template_rows": null,
            "right": null,
            "justify_content": null,
            "_view_module": "@jupyter-widgets/base",
            "overflow": null,
            "_model_module_version": "1.2.0",
            "_view_count": null,
            "flex_flow": null,
            "width": null,
            "min_width": null,
            "border": null,
            "align_items": null,
            "bottom": null,
            "_model_module": "@jupyter-widgets/base",
            "top": null,
            "grid_column": null,
            "overflow_y": null,
            "overflow_x": null,
            "grid_auto_flow": null,
            "grid_area": null,
            "grid_template_columns": null,
            "flex": null,
            "_model_name": "LayoutModel",
            "justify_items": null,
            "grid_row": null,
            "max_height": null,
            "align_content": null,
            "visibility": null,
            "align_self": null,
            "height": null,
            "min_height": null,
            "padding": null,
            "grid_auto_rows": null,
            "grid_gap": null,
            "max_width": null,
            "order": null,
            "_view_module_version": "1.2.0",
            "grid_template_areas": null,
            "object_position": null,
            "object_fit": null,
            "grid_auto_columns": null,
            "margin": null,
            "display": null,
            "left": null
          }
        },
        "8a97bcb4894149949fa26426a673f597": {
          "model_module": "@jupyter-widgets/controls",
          "model_name": "FloatProgressModel",
          "state": {
            "_view_name": "ProgressView",
            "style": "IPY_MODEL_a2660f8b4f3a423189f28e8b4a2cb852",
            "_dom_classes": [],
            "description": "Downloading: 100%",
            "_model_name": "FloatProgressModel",
            "bar_style": "success",
            "max": 231508,
            "_view_module": "@jupyter-widgets/controls",
            "_model_module_version": "1.5.0",
            "value": 231508,
            "_view_count": null,
            "_view_module_version": "1.5.0",
            "orientation": "horizontal",
            "min": 0,
            "description_tooltip": null,
            "_model_module": "@jupyter-widgets/controls",
            "layout": "IPY_MODEL_30f712435bff403985efb091ef6c383a"
          }
        },
        "37b9f7f3cc204594bd0feb561ca31393": {
          "model_module": "@jupyter-widgets/controls",
          "model_name": "HTMLModel",
          "state": {
            "_view_name": "HTMLView",
            "style": "IPY_MODEL_7d58e5d9769a4ecc842dfb491e4f0ca7",
            "_dom_classes": [],
            "description": "",
            "_model_name": "HTMLModel",
            "placeholder": "​",
            "_view_module": "@jupyter-widgets/controls",
            "_model_module_version": "1.5.0",
            "value": " 232k/232k [00:00&lt;00:00, 344kB/s]",
            "_view_count": null,
            "_view_module_version": "1.5.0",
            "description_tooltip": null,
            "_model_module": "@jupyter-widgets/controls",
            "layout": "IPY_MODEL_6d05673f2f80450ba235e7af1385cf8c"
          }
        },
        "a2660f8b4f3a423189f28e8b4a2cb852": {
          "model_module": "@jupyter-widgets/controls",
          "model_name": "ProgressStyleModel",
          "state": {
            "_view_name": "StyleView",
            "_model_name": "ProgressStyleModel",
            "description_width": "initial",
            "_view_module": "@jupyter-widgets/base",
            "_model_module_version": "1.5.0",
            "_view_count": null,
            "_view_module_version": "1.2.0",
            "bar_color": null,
            "_model_module": "@jupyter-widgets/controls"
          }
        },
        "30f712435bff403985efb091ef6c383a": {
          "model_module": "@jupyter-widgets/base",
          "model_name": "LayoutModel",
          "state": {
            "_view_name": "LayoutView",
            "grid_template_rows": null,
            "right": null,
            "justify_content": null,
            "_view_module": "@jupyter-widgets/base",
            "overflow": null,
            "_model_module_version": "1.2.0",
            "_view_count": null,
            "flex_flow": null,
            "width": null,
            "min_width": null,
            "border": null,
            "align_items": null,
            "bottom": null,
            "_model_module": "@jupyter-widgets/base",
            "top": null,
            "grid_column": null,
            "overflow_y": null,
            "overflow_x": null,
            "grid_auto_flow": null,
            "grid_area": null,
            "grid_template_columns": null,
            "flex": null,
            "_model_name": "LayoutModel",
            "justify_items": null,
            "grid_row": null,
            "max_height": null,
            "align_content": null,
            "visibility": null,
            "align_self": null,
            "height": null,
            "min_height": null,
            "padding": null,
            "grid_auto_rows": null,
            "grid_gap": null,
            "max_width": null,
            "order": null,
            "_view_module_version": "1.2.0",
            "grid_template_areas": null,
            "object_position": null,
            "object_fit": null,
            "grid_auto_columns": null,
            "margin": null,
            "display": null,
            "left": null
          }
        },
        "7d58e5d9769a4ecc842dfb491e4f0ca7": {
          "model_module": "@jupyter-widgets/controls",
          "model_name": "DescriptionStyleModel",
          "state": {
            "_view_name": "StyleView",
            "_model_name": "DescriptionStyleModel",
            "description_width": "",
            "_view_module": "@jupyter-widgets/base",
            "_model_module_version": "1.5.0",
            "_view_count": null,
            "_view_module_version": "1.2.0",
            "_model_module": "@jupyter-widgets/controls"
          }
        },
        "6d05673f2f80450ba235e7af1385cf8c": {
          "model_module": "@jupyter-widgets/base",
          "model_name": "LayoutModel",
          "state": {
            "_view_name": "LayoutView",
            "grid_template_rows": null,
            "right": null,
            "justify_content": null,
            "_view_module": "@jupyter-widgets/base",
            "overflow": null,
            "_model_module_version": "1.2.0",
            "_view_count": null,
            "flex_flow": null,
            "width": null,
            "min_width": null,
            "border": null,
            "align_items": null,
            "bottom": null,
            "_model_module": "@jupyter-widgets/base",
            "top": null,
            "grid_column": null,
            "overflow_y": null,
            "overflow_x": null,
            "grid_auto_flow": null,
            "grid_area": null,
            "grid_template_columns": null,
            "flex": null,
            "_model_name": "LayoutModel",
            "justify_items": null,
            "grid_row": null,
            "max_height": null,
            "align_content": null,
            "visibility": null,
            "align_self": null,
            "height": null,
            "min_height": null,
            "padding": null,
            "grid_auto_rows": null,
            "grid_gap": null,
            "max_width": null,
            "order": null,
            "_view_module_version": "1.2.0",
            "grid_template_areas": null,
            "object_position": null,
            "object_fit": null,
            "grid_auto_columns": null,
            "margin": null,
            "display": null,
            "left": null
          }
        },
        "136dba1ffeee435ab9473447f9dee164": {
          "model_module": "@jupyter-widgets/controls",
          "model_name": "HBoxModel",
          "state": {
            "_view_name": "HBoxView",
            "_dom_classes": [],
            "_model_name": "HBoxModel",
            "_view_module": "@jupyter-widgets/controls",
            "_model_module_version": "1.5.0",
            "_view_count": null,
            "_view_module_version": "1.5.0",
            "box_style": "",
            "layout": "IPY_MODEL_7234b4e432ba4c8ca555af1de3251c90",
            "_model_module": "@jupyter-widgets/controls",
            "children": [
              "IPY_MODEL_08214e285cb74da39b80c44f310401e7",
              "IPY_MODEL_36a2efe0d2694db9bbeeb2713b5593e2"
            ]
          }
        },
        "7234b4e432ba4c8ca555af1de3251c90": {
          "model_module": "@jupyter-widgets/base",
          "model_name": "LayoutModel",
          "state": {
            "_view_name": "LayoutView",
            "grid_template_rows": null,
            "right": null,
            "justify_content": null,
            "_view_module": "@jupyter-widgets/base",
            "overflow": null,
            "_model_module_version": "1.2.0",
            "_view_count": null,
            "flex_flow": null,
            "width": null,
            "min_width": null,
            "border": null,
            "align_items": null,
            "bottom": null,
            "_model_module": "@jupyter-widgets/base",
            "top": null,
            "grid_column": null,
            "overflow_y": null,
            "overflow_x": null,
            "grid_auto_flow": null,
            "grid_area": null,
            "grid_template_columns": null,
            "flex": null,
            "_model_name": "LayoutModel",
            "justify_items": null,
            "grid_row": null,
            "max_height": null,
            "align_content": null,
            "visibility": null,
            "align_self": null,
            "height": null,
            "min_height": null,
            "padding": null,
            "grid_auto_rows": null,
            "grid_gap": null,
            "max_width": null,
            "order": null,
            "_view_module_version": "1.2.0",
            "grid_template_areas": null,
            "object_position": null,
            "object_fit": null,
            "grid_auto_columns": null,
            "margin": null,
            "display": null,
            "left": null
          }
        },
        "08214e285cb74da39b80c44f310401e7": {
          "model_module": "@jupyter-widgets/controls",
          "model_name": "FloatProgressModel",
          "state": {
            "_view_name": "ProgressView",
            "style": "IPY_MODEL_f86218eec90543f9a6fcb08d97094d38",
            "_dom_classes": [],
            "description": "Downloading: 100%",
            "_model_name": "FloatProgressModel",
            "bar_style": "success",
            "max": 28,
            "_view_module": "@jupyter-widgets/controls",
            "_model_module_version": "1.5.0",
            "value": 28,
            "_view_count": null,
            "_view_module_version": "1.5.0",
            "orientation": "horizontal",
            "min": 0,
            "description_tooltip": null,
            "_model_module": "@jupyter-widgets/controls",
            "layout": "IPY_MODEL_99cd69fabf86415b9add84fcecd47e24"
          }
        },
        "36a2efe0d2694db9bbeeb2713b5593e2": {
          "model_module": "@jupyter-widgets/controls",
          "model_name": "HTMLModel",
          "state": {
            "_view_name": "HTMLView",
            "style": "IPY_MODEL_28368506dd3c479e9f9d7a5cca04537c",
            "_dom_classes": [],
            "description": "",
            "_model_name": "HTMLModel",
            "placeholder": "​",
            "_view_module": "@jupyter-widgets/controls",
            "_model_module_version": "1.5.0",
            "value": " 28.0/28.0 [00:00&lt;00:00, 94.9B/s]",
            "_view_count": null,
            "_view_module_version": "1.5.0",
            "description_tooltip": null,
            "_model_module": "@jupyter-widgets/controls",
            "layout": "IPY_MODEL_bbe51187e2944f66a1dc80a49a67f4b4"
          }
        },
        "f86218eec90543f9a6fcb08d97094d38": {
          "model_module": "@jupyter-widgets/controls",
          "model_name": "ProgressStyleModel",
          "state": {
            "_view_name": "StyleView",
            "_model_name": "ProgressStyleModel",
            "description_width": "initial",
            "_view_module": "@jupyter-widgets/base",
            "_model_module_version": "1.5.0",
            "_view_count": null,
            "_view_module_version": "1.2.0",
            "bar_color": null,
            "_model_module": "@jupyter-widgets/controls"
          }
        },
        "99cd69fabf86415b9add84fcecd47e24": {
          "model_module": "@jupyter-widgets/base",
          "model_name": "LayoutModel",
          "state": {
            "_view_name": "LayoutView",
            "grid_template_rows": null,
            "right": null,
            "justify_content": null,
            "_view_module": "@jupyter-widgets/base",
            "overflow": null,
            "_model_module_version": "1.2.0",
            "_view_count": null,
            "flex_flow": null,
            "width": null,
            "min_width": null,
            "border": null,
            "align_items": null,
            "bottom": null,
            "_model_module": "@jupyter-widgets/base",
            "top": null,
            "grid_column": null,
            "overflow_y": null,
            "overflow_x": null,
            "grid_auto_flow": null,
            "grid_area": null,
            "grid_template_columns": null,
            "flex": null,
            "_model_name": "LayoutModel",
            "justify_items": null,
            "grid_row": null,
            "max_height": null,
            "align_content": null,
            "visibility": null,
            "align_self": null,
            "height": null,
            "min_height": null,
            "padding": null,
            "grid_auto_rows": null,
            "grid_gap": null,
            "max_width": null,
            "order": null,
            "_view_module_version": "1.2.0",
            "grid_template_areas": null,
            "object_position": null,
            "object_fit": null,
            "grid_auto_columns": null,
            "margin": null,
            "display": null,
            "left": null
          }
        },
        "28368506dd3c479e9f9d7a5cca04537c": {
          "model_module": "@jupyter-widgets/controls",
          "model_name": "DescriptionStyleModel",
          "state": {
            "_view_name": "StyleView",
            "_model_name": "DescriptionStyleModel",
            "description_width": "",
            "_view_module": "@jupyter-widgets/base",
            "_model_module_version": "1.5.0",
            "_view_count": null,
            "_view_module_version": "1.2.0",
            "_model_module": "@jupyter-widgets/controls"
          }
        },
        "bbe51187e2944f66a1dc80a49a67f4b4": {
          "model_module": "@jupyter-widgets/base",
          "model_name": "LayoutModel",
          "state": {
            "_view_name": "LayoutView",
            "grid_template_rows": null,
            "right": null,
            "justify_content": null,
            "_view_module": "@jupyter-widgets/base",
            "overflow": null,
            "_model_module_version": "1.2.0",
            "_view_count": null,
            "flex_flow": null,
            "width": null,
            "min_width": null,
            "border": null,
            "align_items": null,
            "bottom": null,
            "_model_module": "@jupyter-widgets/base",
            "top": null,
            "grid_column": null,
            "overflow_y": null,
            "overflow_x": null,
            "grid_auto_flow": null,
            "grid_area": null,
            "grid_template_columns": null,
            "flex": null,
            "_model_name": "LayoutModel",
            "justify_items": null,
            "grid_row": null,
            "max_height": null,
            "align_content": null,
            "visibility": null,
            "align_self": null,
            "height": null,
            "min_height": null,
            "padding": null,
            "grid_auto_rows": null,
            "grid_gap": null,
            "max_width": null,
            "order": null,
            "_view_module_version": "1.2.0",
            "grid_template_areas": null,
            "object_position": null,
            "object_fit": null,
            "grid_auto_columns": null,
            "margin": null,
            "display": null,
            "left": null
          }
        },
        "776f4d1c3a044e57a0cbf00762cd1ea0": {
          "model_module": "@jupyter-widgets/controls",
          "model_name": "HBoxModel",
          "state": {
            "_view_name": "HBoxView",
            "_dom_classes": [],
            "_model_name": "HBoxModel",
            "_view_module": "@jupyter-widgets/controls",
            "_model_module_version": "1.5.0",
            "_view_count": null,
            "_view_module_version": "1.5.0",
            "box_style": "",
            "layout": "IPY_MODEL_92ce866e38824087bab4ccb99f3a5c62",
            "_model_module": "@jupyter-widgets/controls",
            "children": [
              "IPY_MODEL_ce0f6aeedcee422487a3aae10175f828",
              "IPY_MODEL_7864293d1d744fd9b3a77f7adbfad2cd"
            ]
          }
        },
        "92ce866e38824087bab4ccb99f3a5c62": {
          "model_module": "@jupyter-widgets/base",
          "model_name": "LayoutModel",
          "state": {
            "_view_name": "LayoutView",
            "grid_template_rows": null,
            "right": null,
            "justify_content": null,
            "_view_module": "@jupyter-widgets/base",
            "overflow": null,
            "_model_module_version": "1.2.0",
            "_view_count": null,
            "flex_flow": null,
            "width": null,
            "min_width": null,
            "border": null,
            "align_items": null,
            "bottom": null,
            "_model_module": "@jupyter-widgets/base",
            "top": null,
            "grid_column": null,
            "overflow_y": null,
            "overflow_x": null,
            "grid_auto_flow": null,
            "grid_area": null,
            "grid_template_columns": null,
            "flex": null,
            "_model_name": "LayoutModel",
            "justify_items": null,
            "grid_row": null,
            "max_height": null,
            "align_content": null,
            "visibility": null,
            "align_self": null,
            "height": null,
            "min_height": null,
            "padding": null,
            "grid_auto_rows": null,
            "grid_gap": null,
            "max_width": null,
            "order": null,
            "_view_module_version": "1.2.0",
            "grid_template_areas": null,
            "object_position": null,
            "object_fit": null,
            "grid_auto_columns": null,
            "margin": null,
            "display": null,
            "left": null
          }
        },
        "ce0f6aeedcee422487a3aae10175f828": {
          "model_module": "@jupyter-widgets/controls",
          "model_name": "FloatProgressModel",
          "state": {
            "_view_name": "ProgressView",
            "style": "IPY_MODEL_ed4db6c1ee05426daec637c37b27d703",
            "_dom_classes": [],
            "description": "Downloading: 100%",
            "_model_name": "FloatProgressModel",
            "bar_style": "success",
            "max": 466062,
            "_view_module": "@jupyter-widgets/controls",
            "_model_module_version": "1.5.0",
            "value": 466062,
            "_view_count": null,
            "_view_module_version": "1.5.0",
            "orientation": "horizontal",
            "min": 0,
            "description_tooltip": null,
            "_model_module": "@jupyter-widgets/controls",
            "layout": "IPY_MODEL_3f9f865c718048c2b672263f2cb48746"
          }
        },
        "7864293d1d744fd9b3a77f7adbfad2cd": {
          "model_module": "@jupyter-widgets/controls",
          "model_name": "HTMLModel",
          "state": {
            "_view_name": "HTMLView",
            "style": "IPY_MODEL_c0373bcb3ce6449a8e626b5919c084d0",
            "_dom_classes": [],
            "description": "",
            "_model_name": "HTMLModel",
            "placeholder": "​",
            "_view_module": "@jupyter-widgets/controls",
            "_model_module_version": "1.5.0",
            "value": " 466k/466k [00:00&lt;00:00, 3.86MB/s]",
            "_view_count": null,
            "_view_module_version": "1.5.0",
            "description_tooltip": null,
            "_model_module": "@jupyter-widgets/controls",
            "layout": "IPY_MODEL_7357b20deceb4120bd9c939503405725"
          }
        },
        "ed4db6c1ee05426daec637c37b27d703": {
          "model_module": "@jupyter-widgets/controls",
          "model_name": "ProgressStyleModel",
          "state": {
            "_view_name": "StyleView",
            "_model_name": "ProgressStyleModel",
            "description_width": "initial",
            "_view_module": "@jupyter-widgets/base",
            "_model_module_version": "1.5.0",
            "_view_count": null,
            "_view_module_version": "1.2.0",
            "bar_color": null,
            "_model_module": "@jupyter-widgets/controls"
          }
        },
        "3f9f865c718048c2b672263f2cb48746": {
          "model_module": "@jupyter-widgets/base",
          "model_name": "LayoutModel",
          "state": {
            "_view_name": "LayoutView",
            "grid_template_rows": null,
            "right": null,
            "justify_content": null,
            "_view_module": "@jupyter-widgets/base",
            "overflow": null,
            "_model_module_version": "1.2.0",
            "_view_count": null,
            "flex_flow": null,
            "width": null,
            "min_width": null,
            "border": null,
            "align_items": null,
            "bottom": null,
            "_model_module": "@jupyter-widgets/base",
            "top": null,
            "grid_column": null,
            "overflow_y": null,
            "overflow_x": null,
            "grid_auto_flow": null,
            "grid_area": null,
            "grid_template_columns": null,
            "flex": null,
            "_model_name": "LayoutModel",
            "justify_items": null,
            "grid_row": null,
            "max_height": null,
            "align_content": null,
            "visibility": null,
            "align_self": null,
            "height": null,
            "min_height": null,
            "padding": null,
            "grid_auto_rows": null,
            "grid_gap": null,
            "max_width": null,
            "order": null,
            "_view_module_version": "1.2.0",
            "grid_template_areas": null,
            "object_position": null,
            "object_fit": null,
            "grid_auto_columns": null,
            "margin": null,
            "display": null,
            "left": null
          }
        },
        "c0373bcb3ce6449a8e626b5919c084d0": {
          "model_module": "@jupyter-widgets/controls",
          "model_name": "DescriptionStyleModel",
          "state": {
            "_view_name": "StyleView",
            "_model_name": "DescriptionStyleModel",
            "description_width": "",
            "_view_module": "@jupyter-widgets/base",
            "_model_module_version": "1.5.0",
            "_view_count": null,
            "_view_module_version": "1.2.0",
            "_model_module": "@jupyter-widgets/controls"
          }
        },
        "7357b20deceb4120bd9c939503405725": {
          "model_module": "@jupyter-widgets/base",
          "model_name": "LayoutModel",
          "state": {
            "_view_name": "LayoutView",
            "grid_template_rows": null,
            "right": null,
            "justify_content": null,
            "_view_module": "@jupyter-widgets/base",
            "overflow": null,
            "_model_module_version": "1.2.0",
            "_view_count": null,
            "flex_flow": null,
            "width": null,
            "min_width": null,
            "border": null,
            "align_items": null,
            "bottom": null,
            "_model_module": "@jupyter-widgets/base",
            "top": null,
            "grid_column": null,
            "overflow_y": null,
            "overflow_x": null,
            "grid_auto_flow": null,
            "grid_area": null,
            "grid_template_columns": null,
            "flex": null,
            "_model_name": "LayoutModel",
            "justify_items": null,
            "grid_row": null,
            "max_height": null,
            "align_content": null,
            "visibility": null,
            "align_self": null,
            "height": null,
            "min_height": null,
            "padding": null,
            "grid_auto_rows": null,
            "grid_gap": null,
            "max_width": null,
            "order": null,
            "_view_module_version": "1.2.0",
            "grid_template_areas": null,
            "object_position": null,
            "object_fit": null,
            "grid_auto_columns": null,
            "margin": null,
            "display": null,
            "left": null
          }
        },
        "233684a15fb14247889736f8d7b9ac2f": {
          "model_module": "@jupyter-widgets/controls",
          "model_name": "HBoxModel",
          "state": {
            "_view_name": "HBoxView",
            "_dom_classes": [],
            "_model_name": "HBoxModel",
            "_view_module": "@jupyter-widgets/controls",
            "_model_module_version": "1.5.0",
            "_view_count": null,
            "_view_module_version": "1.5.0",
            "box_style": "",
            "layout": "IPY_MODEL_db501dee73394b5e89bb9294bd653098",
            "_model_module": "@jupyter-widgets/controls",
            "children": [
              "IPY_MODEL_44019b6d33a44cd684a9f90b1dd96135",
              "IPY_MODEL_b68af35427784eff97010fa54bca3eed"
            ]
          }
        },
        "db501dee73394b5e89bb9294bd653098": {
          "model_module": "@jupyter-widgets/base",
          "model_name": "LayoutModel",
          "state": {
            "_view_name": "LayoutView",
            "grid_template_rows": null,
            "right": null,
            "justify_content": null,
            "_view_module": "@jupyter-widgets/base",
            "overflow": null,
            "_model_module_version": "1.2.0",
            "_view_count": null,
            "flex_flow": null,
            "width": null,
            "min_width": null,
            "border": null,
            "align_items": null,
            "bottom": null,
            "_model_module": "@jupyter-widgets/base",
            "top": null,
            "grid_column": null,
            "overflow_y": null,
            "overflow_x": null,
            "grid_auto_flow": null,
            "grid_area": null,
            "grid_template_columns": null,
            "flex": null,
            "_model_name": "LayoutModel",
            "justify_items": null,
            "grid_row": null,
            "max_height": null,
            "align_content": null,
            "visibility": null,
            "align_self": null,
            "height": null,
            "min_height": null,
            "padding": null,
            "grid_auto_rows": null,
            "grid_gap": null,
            "max_width": null,
            "order": null,
            "_view_module_version": "1.2.0",
            "grid_template_areas": null,
            "object_position": null,
            "object_fit": null,
            "grid_auto_columns": null,
            "margin": null,
            "display": null,
            "left": null
          }
        },
        "44019b6d33a44cd684a9f90b1dd96135": {
          "model_module": "@jupyter-widgets/controls",
          "model_name": "FloatProgressModel",
          "state": {
            "_view_name": "ProgressView",
            "style": "IPY_MODEL_d3b1f75d1093478bbe2ed60bafe9d395",
            "_dom_classes": [],
            "description": "Downloading: 100%",
            "_model_name": "FloatProgressModel",
            "bar_style": "success",
            "max": 570,
            "_view_module": "@jupyter-widgets/controls",
            "_model_module_version": "1.5.0",
            "value": 570,
            "_view_count": null,
            "_view_module_version": "1.5.0",
            "orientation": "horizontal",
            "min": 0,
            "description_tooltip": null,
            "_model_module": "@jupyter-widgets/controls",
            "layout": "IPY_MODEL_e16e816b3a0045a291ff048096258855"
          }
        },
        "b68af35427784eff97010fa54bca3eed": {
          "model_module": "@jupyter-widgets/controls",
          "model_name": "HTMLModel",
          "state": {
            "_view_name": "HTMLView",
            "style": "IPY_MODEL_7f0c3107f36e4602856bc6a4292311d9",
            "_dom_classes": [],
            "description": "",
            "_model_name": "HTMLModel",
            "placeholder": "​",
            "_view_module": "@jupyter-widgets/controls",
            "_model_module_version": "1.5.0",
            "value": " 570/570 [00:00&lt;00:00, 5.80kB/s]",
            "_view_count": null,
            "_view_module_version": "1.5.0",
            "description_tooltip": null,
            "_model_module": "@jupyter-widgets/controls",
            "layout": "IPY_MODEL_cd24ab0e163846378b4f89afdae021ab"
          }
        },
        "d3b1f75d1093478bbe2ed60bafe9d395": {
          "model_module": "@jupyter-widgets/controls",
          "model_name": "ProgressStyleModel",
          "state": {
            "_view_name": "StyleView",
            "_model_name": "ProgressStyleModel",
            "description_width": "initial",
            "_view_module": "@jupyter-widgets/base",
            "_model_module_version": "1.5.0",
            "_view_count": null,
            "_view_module_version": "1.2.0",
            "bar_color": null,
            "_model_module": "@jupyter-widgets/controls"
          }
        },
        "e16e816b3a0045a291ff048096258855": {
          "model_module": "@jupyter-widgets/base",
          "model_name": "LayoutModel",
          "state": {
            "_view_name": "LayoutView",
            "grid_template_rows": null,
            "right": null,
            "justify_content": null,
            "_view_module": "@jupyter-widgets/base",
            "overflow": null,
            "_model_module_version": "1.2.0",
            "_view_count": null,
            "flex_flow": null,
            "width": null,
            "min_width": null,
            "border": null,
            "align_items": null,
            "bottom": null,
            "_model_module": "@jupyter-widgets/base",
            "top": null,
            "grid_column": null,
            "overflow_y": null,
            "overflow_x": null,
            "grid_auto_flow": null,
            "grid_area": null,
            "grid_template_columns": null,
            "flex": null,
            "_model_name": "LayoutModel",
            "justify_items": null,
            "grid_row": null,
            "max_height": null,
            "align_content": null,
            "visibility": null,
            "align_self": null,
            "height": null,
            "min_height": null,
            "padding": null,
            "grid_auto_rows": null,
            "grid_gap": null,
            "max_width": null,
            "order": null,
            "_view_module_version": "1.2.0",
            "grid_template_areas": null,
            "object_position": null,
            "object_fit": null,
            "grid_auto_columns": null,
            "margin": null,
            "display": null,
            "left": null
          }
        },
        "7f0c3107f36e4602856bc6a4292311d9": {
          "model_module": "@jupyter-widgets/controls",
          "model_name": "DescriptionStyleModel",
          "state": {
            "_view_name": "StyleView",
            "_model_name": "DescriptionStyleModel",
            "description_width": "",
            "_view_module": "@jupyter-widgets/base",
            "_model_module_version": "1.5.0",
            "_view_count": null,
            "_view_module_version": "1.2.0",
            "_model_module": "@jupyter-widgets/controls"
          }
        },
        "cd24ab0e163846378b4f89afdae021ab": {
          "model_module": "@jupyter-widgets/base",
          "model_name": "LayoutModel",
          "state": {
            "_view_name": "LayoutView",
            "grid_template_rows": null,
            "right": null,
            "justify_content": null,
            "_view_module": "@jupyter-widgets/base",
            "overflow": null,
            "_model_module_version": "1.2.0",
            "_view_count": null,
            "flex_flow": null,
            "width": null,
            "min_width": null,
            "border": null,
            "align_items": null,
            "bottom": null,
            "_model_module": "@jupyter-widgets/base",
            "top": null,
            "grid_column": null,
            "overflow_y": null,
            "overflow_x": null,
            "grid_auto_flow": null,
            "grid_area": null,
            "grid_template_columns": null,
            "flex": null,
            "_model_name": "LayoutModel",
            "justify_items": null,
            "grid_row": null,
            "max_height": null,
            "align_content": null,
            "visibility": null,
            "align_self": null,
            "height": null,
            "min_height": null,
            "padding": null,
            "grid_auto_rows": null,
            "grid_gap": null,
            "max_width": null,
            "order": null,
            "_view_module_version": "1.2.0",
            "grid_template_areas": null,
            "object_position": null,
            "object_fit": null,
            "grid_auto_columns": null,
            "margin": null,
            "display": null,
            "left": null
          }
        },
        "0a99013f55564a15890f9a5354ec5b21": {
          "model_module": "@jupyter-widgets/controls",
          "model_name": "HBoxModel",
          "state": {
            "_view_name": "HBoxView",
            "_dom_classes": [],
            "_model_name": "HBoxModel",
            "_view_module": "@jupyter-widgets/controls",
            "_model_module_version": "1.5.0",
            "_view_count": null,
            "_view_module_version": "1.5.0",
            "box_style": "",
            "layout": "IPY_MODEL_384457eafea24fea90cf8b4760d8f878",
            "_model_module": "@jupyter-widgets/controls",
            "children": [
              "IPY_MODEL_170cf4018a0c4005b482132b27d92994",
              "IPY_MODEL_b63936009dc74a19ab2979f4830a0d96"
            ]
          }
        },
        "384457eafea24fea90cf8b4760d8f878": {
          "model_module": "@jupyter-widgets/base",
          "model_name": "LayoutModel",
          "state": {
            "_view_name": "LayoutView",
            "grid_template_rows": null,
            "right": null,
            "justify_content": null,
            "_view_module": "@jupyter-widgets/base",
            "overflow": null,
            "_model_module_version": "1.2.0",
            "_view_count": null,
            "flex_flow": null,
            "width": null,
            "min_width": null,
            "border": null,
            "align_items": null,
            "bottom": null,
            "_model_module": "@jupyter-widgets/base",
            "top": null,
            "grid_column": null,
            "overflow_y": null,
            "overflow_x": null,
            "grid_auto_flow": null,
            "grid_area": null,
            "grid_template_columns": null,
            "flex": null,
            "_model_name": "LayoutModel",
            "justify_items": null,
            "grid_row": null,
            "max_height": null,
            "align_content": null,
            "visibility": null,
            "align_self": null,
            "height": null,
            "min_height": null,
            "padding": null,
            "grid_auto_rows": null,
            "grid_gap": null,
            "max_width": null,
            "order": null,
            "_view_module_version": "1.2.0",
            "grid_template_areas": null,
            "object_position": null,
            "object_fit": null,
            "grid_auto_columns": null,
            "margin": null,
            "display": null,
            "left": null
          }
        },
        "170cf4018a0c4005b482132b27d92994": {
          "model_module": "@jupyter-widgets/controls",
          "model_name": "FloatProgressModel",
          "state": {
            "_view_name": "ProgressView",
            "style": "IPY_MODEL_acd4c3351a334b7a9a37106be30670b4",
            "_dom_classes": [],
            "description": "Downloading: 100%",
            "_model_name": "FloatProgressModel",
            "bar_style": "success",
            "max": 440473133,
            "_view_module": "@jupyter-widgets/controls",
            "_model_module_version": "1.5.0",
            "value": 440473133,
            "_view_count": null,
            "_view_module_version": "1.5.0",
            "orientation": "horizontal",
            "min": 0,
            "description_tooltip": null,
            "_model_module": "@jupyter-widgets/controls",
            "layout": "IPY_MODEL_860630513ae346c8b8e0034beaf0f8ed"
          }
        },
        "b63936009dc74a19ab2979f4830a0d96": {
          "model_module": "@jupyter-widgets/controls",
          "model_name": "HTMLModel",
          "state": {
            "_view_name": "HTMLView",
            "style": "IPY_MODEL_1b805630883b48a6b1c6f4c649a3b575",
            "_dom_classes": [],
            "description": "",
            "_model_name": "HTMLModel",
            "placeholder": "​",
            "_view_module": "@jupyter-widgets/controls",
            "_model_module_version": "1.5.0",
            "value": " 440M/440M [00:08&lt;00:00, 50.5MB/s]",
            "_view_count": null,
            "_view_module_version": "1.5.0",
            "description_tooltip": null,
            "_model_module": "@jupyter-widgets/controls",
            "layout": "IPY_MODEL_a1891e7855644b0eaf9082860144e360"
          }
        },
        "acd4c3351a334b7a9a37106be30670b4": {
          "model_module": "@jupyter-widgets/controls",
          "model_name": "ProgressStyleModel",
          "state": {
            "_view_name": "StyleView",
            "_model_name": "ProgressStyleModel",
            "description_width": "initial",
            "_view_module": "@jupyter-widgets/base",
            "_model_module_version": "1.5.0",
            "_view_count": null,
            "_view_module_version": "1.2.0",
            "bar_color": null,
            "_model_module": "@jupyter-widgets/controls"
          }
        },
        "860630513ae346c8b8e0034beaf0f8ed": {
          "model_module": "@jupyter-widgets/base",
          "model_name": "LayoutModel",
          "state": {
            "_view_name": "LayoutView",
            "grid_template_rows": null,
            "right": null,
            "justify_content": null,
            "_view_module": "@jupyter-widgets/base",
            "overflow": null,
            "_model_module_version": "1.2.0",
            "_view_count": null,
            "flex_flow": null,
            "width": null,
            "min_width": null,
            "border": null,
            "align_items": null,
            "bottom": null,
            "_model_module": "@jupyter-widgets/base",
            "top": null,
            "grid_column": null,
            "overflow_y": null,
            "overflow_x": null,
            "grid_auto_flow": null,
            "grid_area": null,
            "grid_template_columns": null,
            "flex": null,
            "_model_name": "LayoutModel",
            "justify_items": null,
            "grid_row": null,
            "max_height": null,
            "align_content": null,
            "visibility": null,
            "align_self": null,
            "height": null,
            "min_height": null,
            "padding": null,
            "grid_auto_rows": null,
            "grid_gap": null,
            "max_width": null,
            "order": null,
            "_view_module_version": "1.2.0",
            "grid_template_areas": null,
            "object_position": null,
            "object_fit": null,
            "grid_auto_columns": null,
            "margin": null,
            "display": null,
            "left": null
          }
        },
        "1b805630883b48a6b1c6f4c649a3b575": {
          "model_module": "@jupyter-widgets/controls",
          "model_name": "DescriptionStyleModel",
          "state": {
            "_view_name": "StyleView",
            "_model_name": "DescriptionStyleModel",
            "description_width": "",
            "_view_module": "@jupyter-widgets/base",
            "_model_module_version": "1.5.0",
            "_view_count": null,
            "_view_module_version": "1.2.0",
            "_model_module": "@jupyter-widgets/controls"
          }
        },
        "a1891e7855644b0eaf9082860144e360": {
          "model_module": "@jupyter-widgets/base",
          "model_name": "LayoutModel",
          "state": {
            "_view_name": "LayoutView",
            "grid_template_rows": null,
            "right": null,
            "justify_content": null,
            "_view_module": "@jupyter-widgets/base",
            "overflow": null,
            "_model_module_version": "1.2.0",
            "_view_count": null,
            "flex_flow": null,
            "width": null,
            "min_width": null,
            "border": null,
            "align_items": null,
            "bottom": null,
            "_model_module": "@jupyter-widgets/base",
            "top": null,
            "grid_column": null,
            "overflow_y": null,
            "overflow_x": null,
            "grid_auto_flow": null,
            "grid_area": null,
            "grid_template_columns": null,
            "flex": null,
            "_model_name": "LayoutModel",
            "justify_items": null,
            "grid_row": null,
            "max_height": null,
            "align_content": null,
            "visibility": null,
            "align_self": null,
            "height": null,
            "min_height": null,
            "padding": null,
            "grid_auto_rows": null,
            "grid_gap": null,
            "max_width": null,
            "order": null,
            "_view_module_version": "1.2.0",
            "grid_template_areas": null,
            "object_position": null,
            "object_fit": null,
            "grid_auto_columns": null,
            "margin": null,
            "display": null,
            "left": null
          }
        }
      }
    }
  },
  "cells": [
    {
      "cell_type": "markdown",
      "metadata": {
        "id": "view-in-github",
        "colab_type": "text"
      },
      "source": [
        "<a href=\"https://colab.research.google.com/github/Xiao-Yu-Cassie/Speech-Emotion-Recognition-on-Iemocap/blob/main/707proj.ipynb\" target=\"_parent\"><img src=\"https://colab.research.google.com/assets/colab-badge.svg\" alt=\"Open In Colab\"/></a>"
      ]
    },
    {
      "cell_type": "markdown",
      "metadata": {
        "id": "iQYzi5qoeiJQ"
      },
      "source": [
        "#Check Hardware Info"
      ]
    },
    {
      "cell_type": "code",
      "metadata": {
        "colab": {
          "base_uri": "https://localhost:8080/"
        },
        "id": "Kd083PX3etE9",
        "outputId": "8ce3a8e2-c82f-45a8-9b95-2fcd4579c6dc"
      },
      "source": [
        "gpu_info = !nvidia-smi\n",
        "gpu_info = '\\n'.join(gpu_info)\n",
        "if gpu_info.find('failed') >= 0:\n",
        "  print('Select the Runtime > \"Change runtime type\" menu to enable a GPU accelerator, ')\n",
        "  print('and then re-execute this cell.')\n",
        "else:\n",
        "  print(gpu_info)"
      ],
      "execution_count": null,
      "outputs": [
        {
          "output_type": "stream",
          "text": [
            "Fri May  7 18:11:00 2021       \n",
            "+-----------------------------------------------------------------------------+\n",
            "| NVIDIA-SMI 465.19.01    Driver Version: 460.32.03    CUDA Version: 11.2     |\n",
            "|-------------------------------+----------------------+----------------------+\n",
            "| GPU  Name        Persistence-M| Bus-Id        Disp.A | Volatile Uncorr. ECC |\n",
            "| Fan  Temp  Perf  Pwr:Usage/Cap|         Memory-Usage | GPU-Util  Compute M. |\n",
            "|                               |                      |               MIG M. |\n",
            "|===============================+======================+======================|\n",
            "|   0  Tesla P100-PCIE...  Off  | 00000000:00:04.0 Off |                    0 |\n",
            "| N/A   35C    P0    27W / 250W |      0MiB / 16280MiB |      0%      Default |\n",
            "|                               |                      |                  N/A |\n",
            "+-------------------------------+----------------------+----------------------+\n",
            "                                                                               \n",
            "+-----------------------------------------------------------------------------+\n",
            "| Processes:                                                                  |\n",
            "|  GPU   GI   CI        PID   Type   Process name                  GPU Memory |\n",
            "|        ID   ID                                                   Usage      |\n",
            "|=============================================================================|\n",
            "|  No running processes found                                                 |\n",
            "+-----------------------------------------------------------------------------+\n"
          ],
          "name": "stdout"
        }
      ]
    },
    {
      "cell_type": "code",
      "metadata": {
        "colab": {
          "base_uri": "https://localhost:8080/"
        },
        "id": "8FVpr9NtfA5L",
        "outputId": "69e3b788-a042-4c02-f2b9-b7f38102d2e9"
      },
      "source": [
        "from psutil import virtual_memory\n",
        "ram_gb = virtual_memory().total / 1e9\n",
        "print('Your runtime has {:.1f} gigabytes of available RAM\\n'.format(ram_gb))\n",
        "\n",
        "if ram_gb < 20:\n",
        "  print('To enable a high-RAM runtime, select the Runtime > \"Change runtime type\"')\n",
        "  print('menu, and then select High-RAM in the Runtime shape dropdown. Then, ')\n",
        "  print('re-execute this cell.')\n",
        "else:\n",
        "  print('You are using a high-RAM runtime!')"
      ],
      "execution_count": null,
      "outputs": [
        {
          "output_type": "stream",
          "text": [
            "Your runtime has 27.4 gigabytes of available RAM\n",
            "\n",
            "You are using a high-RAM runtime!\n"
          ],
          "name": "stdout"
        }
      ]
    },
    {
      "cell_type": "code",
      "metadata": {
        "colab": {
          "base_uri": "https://localhost:8080/"
        },
        "id": "rI0gz_9yzJXU",
        "outputId": "e2c70ad8-181d-4a6f-8d49-6b5f1716f067"
      },
      "source": [
        "!pip install -U torchtext==0.8.0\n",
        "!pip install transformers"
      ],
      "execution_count": null,
      "outputs": [
        {
          "output_type": "stream",
          "text": [
            "Collecting torchtext==0.8.0\n",
            "\u001b[?25l  Downloading https://files.pythonhosted.org/packages/26/8a/e09b9b82d4dd676f17aa681003a7533765346744391966dec0d5dba03ee4/torchtext-0.8.0-cp37-cp37m-manylinux1_x86_64.whl (6.9MB)\n",
            "\u001b[K     |████████████████████████████████| 7.0MB 5.2MB/s \n",
            "\u001b[?25hRequirement already satisfied, skipping upgrade: numpy in /usr/local/lib/python3.7/dist-packages (from torchtext==0.8.0) (1.19.5)\n",
            "Requirement already satisfied, skipping upgrade: torch in /usr/local/lib/python3.7/dist-packages (from torchtext==0.8.0) (1.8.1+cu101)\n",
            "Requirement already satisfied, skipping upgrade: requests in /usr/local/lib/python3.7/dist-packages (from torchtext==0.8.0) (2.23.0)\n",
            "Requirement already satisfied, skipping upgrade: tqdm in /usr/local/lib/python3.7/dist-packages (from torchtext==0.8.0) (4.41.1)\n",
            "Requirement already satisfied, skipping upgrade: typing-extensions in /usr/local/lib/python3.7/dist-packages (from torch->torchtext==0.8.0) (3.7.4.3)\n",
            "Requirement already satisfied, skipping upgrade: certifi>=2017.4.17 in /usr/local/lib/python3.7/dist-packages (from requests->torchtext==0.8.0) (2020.12.5)\n",
            "Requirement already satisfied, skipping upgrade: idna<3,>=2.5 in /usr/local/lib/python3.7/dist-packages (from requests->torchtext==0.8.0) (2.10)\n",
            "Requirement already satisfied, skipping upgrade: urllib3!=1.25.0,!=1.25.1,<1.26,>=1.21.1 in /usr/local/lib/python3.7/dist-packages (from requests->torchtext==0.8.0) (1.24.3)\n",
            "Requirement already satisfied, skipping upgrade: chardet<4,>=3.0.2 in /usr/local/lib/python3.7/dist-packages (from requests->torchtext==0.8.0) (3.0.4)\n",
            "Installing collected packages: torchtext\n",
            "  Found existing installation: torchtext 0.9.1\n",
            "    Uninstalling torchtext-0.9.1:\n",
            "      Successfully uninstalled torchtext-0.9.1\n",
            "Successfully installed torchtext-0.8.0\n",
            "Collecting transformers\n",
            "\u001b[?25l  Downloading https://files.pythonhosted.org/packages/d8/b2/57495b5309f09fa501866e225c84532d1fd89536ea62406b2181933fb418/transformers-4.5.1-py3-none-any.whl (2.1MB)\n",
            "\u001b[K     |████████████████████████████████| 2.1MB 6.3MB/s \n",
            "\u001b[?25hRequirement already satisfied: packaging in /usr/local/lib/python3.7/dist-packages (from transformers) (20.9)\n",
            "Requirement already satisfied: requests in /usr/local/lib/python3.7/dist-packages (from transformers) (2.23.0)\n",
            "Requirement already satisfied: tqdm>=4.27 in /usr/local/lib/python3.7/dist-packages (from transformers) (4.41.1)\n",
            "Collecting sacremoses\n",
            "\u001b[?25l  Downloading https://files.pythonhosted.org/packages/75/ee/67241dc87f266093c533a2d4d3d69438e57d7a90abb216fa076e7d475d4a/sacremoses-0.0.45-py3-none-any.whl (895kB)\n",
            "\u001b[K     |████████████████████████████████| 901kB 21.7MB/s \n",
            "\u001b[?25hCollecting tokenizers<0.11,>=0.10.1\n",
            "\u001b[?25l  Downloading https://files.pythonhosted.org/packages/ae/04/5b870f26a858552025a62f1649c20d29d2672c02ff3c3fb4c688ca46467a/tokenizers-0.10.2-cp37-cp37m-manylinux2010_x86_64.whl (3.3MB)\n",
            "\u001b[K     |████████████████████████████████| 3.3MB 35.3MB/s \n",
            "\u001b[?25hRequirement already satisfied: filelock in /usr/local/lib/python3.7/dist-packages (from transformers) (3.0.12)\n",
            "Requirement already satisfied: numpy>=1.17 in /usr/local/lib/python3.7/dist-packages (from transformers) (1.19.5)\n",
            "Requirement already satisfied: regex!=2019.12.17 in /usr/local/lib/python3.7/dist-packages (from transformers) (2019.12.20)\n",
            "Requirement already satisfied: importlib-metadata; python_version < \"3.8\" in /usr/local/lib/python3.7/dist-packages (from transformers) (3.10.1)\n",
            "Requirement already satisfied: pyparsing>=2.0.2 in /usr/local/lib/python3.7/dist-packages (from packaging->transformers) (2.4.7)\n",
            "Requirement already satisfied: urllib3!=1.25.0,!=1.25.1,<1.26,>=1.21.1 in /usr/local/lib/python3.7/dist-packages (from requests->transformers) (1.24.3)\n",
            "Requirement already satisfied: certifi>=2017.4.17 in /usr/local/lib/python3.7/dist-packages (from requests->transformers) (2020.12.5)\n",
            "Requirement already satisfied: idna<3,>=2.5 in /usr/local/lib/python3.7/dist-packages (from requests->transformers) (2.10)\n",
            "Requirement already satisfied: chardet<4,>=3.0.2 in /usr/local/lib/python3.7/dist-packages (from requests->transformers) (3.0.4)\n",
            "Requirement already satisfied: joblib in /usr/local/lib/python3.7/dist-packages (from sacremoses->transformers) (1.0.1)\n",
            "Requirement already satisfied: six in /usr/local/lib/python3.7/dist-packages (from sacremoses->transformers) (1.15.0)\n",
            "Requirement already satisfied: click in /usr/local/lib/python3.7/dist-packages (from sacremoses->transformers) (7.1.2)\n",
            "Requirement already satisfied: zipp>=0.5 in /usr/local/lib/python3.7/dist-packages (from importlib-metadata; python_version < \"3.8\"->transformers) (3.4.1)\n",
            "Requirement already satisfied: typing-extensions>=3.6.4; python_version < \"3.8\" in /usr/local/lib/python3.7/dist-packages (from importlib-metadata; python_version < \"3.8\"->transformers) (3.7.4.3)\n",
            "Installing collected packages: sacremoses, tokenizers, transformers\n",
            "Successfully installed sacremoses-0.0.45 tokenizers-0.10.2 transformers-4.5.1\n"
          ],
          "name": "stdout"
        }
      ]
    },
    {
      "cell_type": "markdown",
      "metadata": {
        "id": "IG7ZEkY0go6j"
      },
      "source": [
        "#Environment Setup"
      ]
    },
    {
      "cell_type": "code",
      "metadata": {
        "id": "EUoRL94OgteJ"
      },
      "source": [
        "import os\n",
        "import numpy as np\n",
        "from PIL import Image\n",
        "\n",
        "import torch\n",
        "import torchvision\n",
        "from torchvision import transforms\n",
        "import torchvision.models as models\n",
        "from torchvision.datasets import ImageFolder\n",
        "import torch.nn as nn\n",
        "import torch.optim as optim\n",
        "import torch.nn.functional as F\n",
        "from torch.utils.data import Dataset, DataLoader, random_split\n",
        "from sklearn.metrics import roc_auc_score\n",
        "from IPython.display import Image\n",
        "from IPython.core.display import Image, display\n",
        "from torchvision.utils import save_image\n",
        "import time\n",
        "import pandas as pd\n",
        "import matplotlib.pyplot as plt\n",
        "import random\n",
        "import scipy\n",
        "import pickle\n",
        "#from bert_embedding import BertEmbedding\n"
      ],
      "execution_count": null,
      "outputs": []
    },
    {
      "cell_type": "code",
      "metadata": {
        "colab": {
          "base_uri": "https://localhost:8080/"
        },
        "id": "5sCcQtLjgv0l",
        "outputId": "64bda64b-e0d8-4dff-f15c-f12e7bbef287"
      },
      "source": [
        "cuda = torch.cuda.is_available()\n",
        "device = torch.device('cuda' if cuda else 'cpu')\n",
        "print(device)"
      ],
      "execution_count": null,
      "outputs": [
        {
          "output_type": "stream",
          "text": [
            "cuda\n"
          ],
          "name": "stdout"
        }
      ]
    },
    {
      "cell_type": "markdown",
      "metadata": {
        "id": "9Mlg7gWFKB64"
      },
      "source": [
        "#Mount Drive"
      ]
    },
    {
      "cell_type": "code",
      "metadata": {
        "id": "FREEkRmO1Krh",
        "colab": {
          "base_uri": "https://localhost:8080/"
        },
        "outputId": "1d6422d2-d4d4-4298-ed00-825d7bdfe642"
      },
      "source": [
        "from google.colab import drive\n",
        "drive.mount('/content/gdrive')"
      ],
      "execution_count": null,
      "outputs": [
        {
          "output_type": "stream",
          "text": [
            "Mounted at /content/gdrive\n"
          ],
          "name": "stdout"
        }
      ]
    },
    {
      "cell_type": "markdown",
      "metadata": {
        "id": "J1QqePzpCnlw"
      },
      "source": [
        "#Single-Utterance-based LSTM with Attention"
      ]
    },
    {
      "cell_type": "code",
      "metadata": {
        "id": "WM6A2we6Cm9Z"
      },
      "source": [
        "import torch.nn as nn\n",
        "class LSTM_Classifer(nn.Module):\n",
        "  def __init__(self, input_dim, hidden_dim, output_dim, class_num, dropout=0.5):\n",
        "    super().__init__()\n",
        "    self.class_num = class_num\n",
        "    self.dropout = dropout\n",
        "    self.input_dim = input_dim\n",
        "    self.hidden_dim = hidden_dim\n",
        "    self.lstm = nn.LSTM(input_size = input_dim, hidden_size = hidden_dim)\n",
        "    self.output_dim = output_dim\n",
        "   \n",
        "    self.fc1 = nn.Linear(self.hidden_dim, output_dim)\n",
        "    self.act1 = nn.ReLU()\n",
        "    self.output_layer = nn.Linear(output_dim, class_num)\n",
        "    self.dropoutLayer = nn.Dropout(self.dropout)\n",
        "\n",
        "  def attention(self, lstm_out, inp):\n",
        "    permuted_output = lstm_out.permute(1, 0, 2) #(batch, seqlen, hidden)\n",
        "    inp = torch.squeeze(inp, 0) #size (batch, hidden_size)\n",
        "    inp_tmp = torch.unsqueeze(inp, 2)\n",
        "    attn_weights = torch.bmm(permuted_output, inp_tmp) # (batch, seqlen, 1)\n",
        "    attn_weights = torch.squeeze(attn_weights, 2) # (batch, seqlen)\n",
        "    softmax_weights = F.softmax(attn_weights, 1) # (batch, seqlen)\n",
        "    softmax_weights = torch.unsqueeze(softmax_weights, 2) #(batch, seqlen, 1)\n",
        "    new_hidden_state = torch.bmm(permuted_output.transpose(1, 2), softmax_weights)\n",
        "    new_hidden_state = torch.squeeze(new_hidden_state, 2) #(batch, hidden)\n",
        "    return new_hidden_state\n",
        "\n",
        "\n",
        "  def forward(self, x):\n",
        "    batch_size = x.shape[1]\n",
        "    lstm_out, (hidden, c) = self.lstm(x)\n",
        "    attn_output = self.attention(lstm_out, hidden)\n",
        "    output = self.fc1(attn_output)\n",
        "    output = self.act1(output)\n",
        "    output = self.output_layer(output)\n",
        "    return output\n",
        "\n",
        "  def encode_feature(self, x):\n",
        "    batch_size = x.shape[1]\n",
        "    lstm_out, (hidden, c) = self.lstm(x)\n",
        "    attn_output = self.attention(lstm_out, hidden)\n",
        "    return attn_output\n",
        "\n"
      ],
      "execution_count": null,
      "outputs": []
    },
    {
      "cell_type": "markdown",
      "metadata": {
        "id": "PSsyFb2st91T"
      },
      "source": [
        "#torchtext Preprocessing"
      ]
    },
    {
      "cell_type": "code",
      "metadata": {
        "colab": {
          "base_uri": "https://localhost:8080/",
          "height": 304
        },
        "id": "PkZAov9AaBav",
        "outputId": "589ab7d0-c6db-482b-a4e3-4721623a979c"
      },
      "source": [
        "pip install numpy --upgrade"
      ],
      "execution_count": null,
      "outputs": [
        {
          "output_type": "stream",
          "text": [
            "Collecting numpy\n",
            "\u001b[?25l  Downloading https://files.pythonhosted.org/packages/73/ef/8967d406f3f85018ceb5efab50431e901683188f1741ceb053efcab26c87/numpy-1.20.2-cp37-cp37m-manylinux2010_x86_64.whl (15.3MB)\n",
            "\u001b[K     |████████████████████████████████| 15.3MB 350kB/s \n",
            "\u001b[31mERROR: tensorflow 2.4.1 has requirement numpy~=1.19.2, but you'll have numpy 1.20.2 which is incompatible.\u001b[0m\n",
            "\u001b[31mERROR: datascience 0.10.6 has requirement folium==0.2.1, but you'll have folium 0.8.3 which is incompatible.\u001b[0m\n",
            "\u001b[31mERROR: albumentations 0.1.12 has requirement imgaug<0.2.7,>=0.2.5, but you'll have imgaug 0.2.9 which is incompatible.\u001b[0m\n",
            "\u001b[?25hInstalling collected packages: numpy\n",
            "  Found existing installation: numpy 1.19.5\n",
            "    Uninstalling numpy-1.19.5:\n",
            "      Successfully uninstalled numpy-1.19.5\n",
            "Successfully installed numpy-1.20.2\n"
          ],
          "name": "stdout"
        },
        {
          "output_type": "display_data",
          "data": {
            "application/vnd.colab-display-data+json": {
              "pip_warning": {
                "packages": [
                  "numpy"
                ]
              }
            }
          },
          "metadata": {
            "tags": []
          }
        }
      ]
    },
    {
      "cell_type": "code",
      "metadata": {
        "id": "-sNqzV7PvLs6"
      },
      "source": [
        "import numpy\n",
        "from torchtext.data import Field, TabularDataset, BucketIterator, Iterator\n",
        "from transformers import BertTokenizer, BertForSequenceClassification, BertModel\n",
        "from sklearn.metrics import accuracy_score, classification_report, confusion_matrix\n",
        "import seaborn as sns"
      ],
      "execution_count": null,
      "outputs": []
    },
    {
      "cell_type": "code",
      "metadata": {
        "colab": {
          "base_uri": "https://localhost:8080/",
          "height": 36
        },
        "id": "7HUhK-4fwciZ",
        "outputId": "42bca09b-06b3-4c18-e76a-e501f40814dc"
      },
      "source": [
        "torch.__version__"
      ],
      "execution_count": null,
      "outputs": [
        {
          "output_type": "execute_result",
          "data": {
            "application/vnd.google.colaboratory.intrinsic+json": {
              "type": "string"
            },
            "text/plain": [
              "'1.8.1+cu101'"
            ]
          },
          "metadata": {
            "tags": []
          },
          "execution_count": 17
        }
      ]
    },
    {
      "cell_type": "code",
      "metadata": {
        "id": "qFk2r5d3vwtD"
      },
      "source": [
        "from torchtext.data import Field, TabularDataset, BucketIterator, Iterator, LabelField"
      ],
      "execution_count": null,
      "outputs": []
    },
    {
      "cell_type": "code",
      "metadata": {
        "id": "tm7f3IH4wHi2"
      },
      "source": [
        "SEED = 1234\n",
        "\n",
        "random.seed(SEED)\n",
        "np.random.seed(SEED)\n",
        "torch.manual_seed(SEED)\n",
        "torch.backends.cudnn.deterministic = True"
      ],
      "execution_count": null,
      "outputs": []
    },
    {
      "cell_type": "code",
      "metadata": {
        "id": "HSyVzYQlwOLe",
        "colab": {
          "base_uri": "https://localhost:8080/",
          "height": 166,
          "referenced_widgets": [
            "e07be73e26f842e8875fa5aa41221e6a",
            "7607def5cfc44047a03a2f7c33f23639",
            "8a97bcb4894149949fa26426a673f597",
            "37b9f7f3cc204594bd0feb561ca31393",
            "a2660f8b4f3a423189f28e8b4a2cb852",
            "30f712435bff403985efb091ef6c383a",
            "7d58e5d9769a4ecc842dfb491e4f0ca7",
            "6d05673f2f80450ba235e7af1385cf8c",
            "136dba1ffeee435ab9473447f9dee164",
            "7234b4e432ba4c8ca555af1de3251c90",
            "08214e285cb74da39b80c44f310401e7",
            "36a2efe0d2694db9bbeeb2713b5593e2",
            "f86218eec90543f9a6fcb08d97094d38",
            "99cd69fabf86415b9add84fcecd47e24",
            "28368506dd3c479e9f9d7a5cca04537c",
            "bbe51187e2944f66a1dc80a49a67f4b4",
            "776f4d1c3a044e57a0cbf00762cd1ea0",
            "92ce866e38824087bab4ccb99f3a5c62",
            "ce0f6aeedcee422487a3aae10175f828",
            "7864293d1d744fd9b3a77f7adbfad2cd",
            "ed4db6c1ee05426daec637c37b27d703",
            "3f9f865c718048c2b672263f2cb48746",
            "c0373bcb3ce6449a8e626b5919c084d0",
            "7357b20deceb4120bd9c939503405725"
          ]
        },
        "outputId": "22a1a489-33e9-4976-c99f-84d570657da7"
      },
      "source": [
        "tokenizer = BertTokenizer.from_pretrained('bert-base-uncased')\n"
      ],
      "execution_count": null,
      "outputs": [
        {
          "output_type": "display_data",
          "data": {
            "application/vnd.jupyter.widget-view+json": {
              "model_id": "e07be73e26f842e8875fa5aa41221e6a",
              "version_minor": 0,
              "version_major": 2
            },
            "text/plain": [
              "HBox(children=(FloatProgress(value=0.0, description='Downloading', max=231508.0, style=ProgressStyle(descripti…"
            ]
          },
          "metadata": {
            "tags": []
          }
        },
        {
          "output_type": "stream",
          "text": [
            "\n"
          ],
          "name": "stdout"
        },
        {
          "output_type": "display_data",
          "data": {
            "application/vnd.jupyter.widget-view+json": {
              "model_id": "136dba1ffeee435ab9473447f9dee164",
              "version_minor": 0,
              "version_major": 2
            },
            "text/plain": [
              "HBox(children=(FloatProgress(value=0.0, description='Downloading', max=28.0, style=ProgressStyle(description_w…"
            ]
          },
          "metadata": {
            "tags": []
          }
        },
        {
          "output_type": "stream",
          "text": [
            "\n"
          ],
          "name": "stdout"
        },
        {
          "output_type": "display_data",
          "data": {
            "application/vnd.jupyter.widget-view+json": {
              "model_id": "776f4d1c3a044e57a0cbf00762cd1ea0",
              "version_minor": 0,
              "version_major": 2
            },
            "text/plain": [
              "HBox(children=(FloatProgress(value=0.0, description='Downloading', max=466062.0, style=ProgressStyle(descripti…"
            ]
          },
          "metadata": {
            "tags": []
          }
        },
        {
          "output_type": "stream",
          "text": [
            "\n"
          ],
          "name": "stdout"
        }
      ]
    },
    {
      "cell_type": "code",
      "metadata": {
        "id": "SfI_qhKiyvq8"
      },
      "source": [
        "init_token = tokenizer.cls_token\n",
        "eos_token = tokenizer.sep_token\n",
        "pad_token = tokenizer.pad_token\n",
        "unk_token = tokenizer.unk_token"
      ],
      "execution_count": null,
      "outputs": []
    },
    {
      "cell_type": "code",
      "metadata": {
        "colab": {
          "base_uri": "https://localhost:8080/"
        },
        "id": "qjeaPnm5zViY",
        "outputId": "119e7afd-531c-43de-d115-48005d47777e"
      },
      "source": [
        "max_input_length = tokenizer.max_model_input_sizes['bert-base-uncased']\n",
        "print(max_input_length)\n"
      ],
      "execution_count": null,
      "outputs": [
        {
          "output_type": "stream",
          "text": [
            "512\n"
          ],
          "name": "stdout"
        }
      ]
    },
    {
      "cell_type": "code",
      "metadata": {
        "id": "cdH4CZ7Gz3wZ"
      },
      "source": [
        "def tokenize_and_cut(sentence):\n",
        "    tokens = tokenizer.tokenize(sentence) \n",
        "    tokens = tokens[:max_input_length-2]\n",
        "    return tokens"
      ],
      "execution_count": null,
      "outputs": []
    },
    {
      "cell_type": "code",
      "metadata": {
        "id": "TGxt7iJvvdTC"
      },
      "source": [
        "init_token_idx = tokenizer.cls_token_id\n",
        "eos_token_idx = tokenizer.sep_token_id\n",
        "pad_token_idx = tokenizer.pad_token_id\n",
        "unk_token_idx = tokenizer.unk_token_id"
      ],
      "execution_count": null,
      "outputs": []
    },
    {
      "cell_type": "code",
      "metadata": {
        "id": "DwpwDOP-vgPR"
      },
      "source": [
        "max_input_length = tokenizer.max_model_input_sizes['bert-base-uncased']"
      ],
      "execution_count": null,
      "outputs": []
    },
    {
      "cell_type": "code",
      "metadata": {
        "id": "lw2XKllEvj4a"
      },
      "source": [
        "def tokenize_and_cut(sentence):\n",
        "    tokens = tokenizer.tokenize(sentence) \n",
        "    tokens = tokens[:max_input_length-2]\n",
        "    return tokens"
      ],
      "execution_count": null,
      "outputs": []
    },
    {
      "cell_type": "code",
      "metadata": {
        "colab": {
          "base_uri": "https://localhost:8080/"
        },
        "id": "ZrRM0kxOvmu5",
        "outputId": "b0194a09-8237-4611-e847-9c46a5090dc2"
      },
      "source": [
        "TEXT = Field(batch_first = True,\n",
        "                  use_vocab = False,\n",
        "                  tokenize = tokenize_and_cut,\n",
        "                  preprocessing = tokenizer.convert_tokens_to_ids,\n",
        "                  init_token = init_token_idx,\n",
        "                  eos_token = eos_token_idx,\n",
        "                  pad_token = pad_token_idx,\n",
        "                  unk_token = unk_token_idx)\n",
        "\n",
        "LABEL = LabelField(dtype = torch.float)"
      ],
      "execution_count": null,
      "outputs": [
        {
          "output_type": "stream",
          "text": [
            "/usr/local/lib/python3.7/dist-packages/torchtext/data/field.py:150: UserWarning: Field class will be retired soon and moved to torchtext.legacy. Please see the most recent release notes for further information.\n",
            "  warnings.warn('{} class will be retired soon and moved to torchtext.legacy. Please see the most recent release notes for further information.'.format(self.__class__.__name__), UserWarning)\n",
            "/usr/local/lib/python3.7/dist-packages/torchtext/data/field.py:150: UserWarning: LabelField class will be retired soon and moved to torchtext.legacy. Please see the most recent release notes for further information.\n",
            "  warnings.warn('{} class will be retired soon and moved to torchtext.legacy. Please see the most recent release notes for further information.'.format(self.__class__.__name__), UserWarning)\n"
          ],
          "name": "stderr"
        }
      ]
    },
    {
      "cell_type": "code",
      "metadata": {
        "id": "PdWf-Iz1zajW",
        "colab": {
          "base_uri": "https://localhost:8080/",
          "height": 116,
          "referenced_widgets": [
            "233684a15fb14247889736f8d7b9ac2f",
            "db501dee73394b5e89bb9294bd653098",
            "44019b6d33a44cd684a9f90b1dd96135",
            "b68af35427784eff97010fa54bca3eed",
            "d3b1f75d1093478bbe2ed60bafe9d395",
            "e16e816b3a0045a291ff048096258855",
            "7f0c3107f36e4602856bc6a4292311d9",
            "cd24ab0e163846378b4f89afdae021ab",
            "0a99013f55564a15890f9a5354ec5b21",
            "384457eafea24fea90cf8b4760d8f878",
            "170cf4018a0c4005b482132b27d92994",
            "b63936009dc74a19ab2979f4830a0d96",
            "acd4c3351a334b7a9a37106be30670b4",
            "860630513ae346c8b8e0034beaf0f8ed",
            "1b805630883b48a6b1c6f4c649a3b575",
            "a1891e7855644b0eaf9082860144e360"
          ]
        },
        "outputId": "f71a5bfa-70d5-4456-b606-3967931ffab5"
      },
      "source": [
        "bert_model = BertModel.from_pretrained('bert-base-uncased')"
      ],
      "execution_count": null,
      "outputs": [
        {
          "output_type": "display_data",
          "data": {
            "application/vnd.jupyter.widget-view+json": {
              "model_id": "233684a15fb14247889736f8d7b9ac2f",
              "version_minor": 0,
              "version_major": 2
            },
            "text/plain": [
              "HBox(children=(FloatProgress(value=0.0, description='Downloading', max=570.0, style=ProgressStyle(description_…"
            ]
          },
          "metadata": {
            "tags": []
          }
        },
        {
          "output_type": "stream",
          "text": [
            "\n"
          ],
          "name": "stdout"
        },
        {
          "output_type": "display_data",
          "data": {
            "application/vnd.jupyter.widget-view+json": {
              "model_id": "0a99013f55564a15890f9a5354ec5b21",
              "version_minor": 0,
              "version_major": 2
            },
            "text/plain": [
              "HBox(children=(FloatProgress(value=0.0, description='Downloading', max=440473133.0, style=ProgressStyle(descri…"
            ]
          },
          "metadata": {
            "tags": []
          }
        },
        {
          "output_type": "stream",
          "text": [
            "\n"
          ],
          "name": "stdout"
        }
      ]
    },
    {
      "cell_type": "markdown",
      "metadata": {
        "id": "BaMRPTnSeHAk"
      },
      "source": [
        "#Text and Audio Preprocessing"
      ]
    },
    {
      "cell_type": "code",
      "metadata": {
        "colab": {
          "base_uri": "https://localhost:8080/"
        },
        "id": "-Lj2pdlmf0UH",
        "outputId": "d14cafe9-c3c2-442b-b197-e42bf6dfd19f"
      },
      "source": [
        "import pandas as pd\n",
        "import numpy as np\n",
        "import pickle\n",
        "import string\n",
        "import re\n",
        "import nltk\n",
        "from nltk.corpus import stopwords\n",
        "from nltk.tokenize import word_tokenize\n",
        "from nltk.stem import PorterStemmer\n",
        "import string\n",
        "from nltk.stem import WordNetLemmatizer\n",
        "\n",
        "nltk.download('stopwords')\n",
        "nltk.download('punkt')\n",
        "nltk.download('wordnet')\n",
        "stemmer= PorterStemmer()\n",
        "lemmatizer=WordNetLemmatizer()\n",
        "\n",
        "text = \"Nick likes to play football, however he is not too fond of tennis.\"\n",
        "text_tokens = word_tokenize(text)\n",
        "tokens_without_sw = [word for word in text_tokens if not word in stopwords.words()]\n",
        "print(tokens_without_sw)\n",
        "\n",
        "# From Poria's official code https://github.com/soujanyaporia/multimodal-sentiment-analysis/blob/master/dataset/iemocap/raw/IEMOCAP_features_raw.pkl.zip\n",
        "videoIDs, videoSpeakers, videoLabels, videoText, videoAudio, videoVisual, videoSentence, trainVid, testVid = pickle.load(open(\"gdrive/MyDrive/IEMOCAP_features_raw.pkl\", \"rb\"), encoding='latin1')\n",
        "\n",
        "#train_size: 120 videos.  test_size: 31 videos\n",
        "\n",
        "\n",
        "def generate_tokens(sentence):\n",
        "  sentence = sentence.lower()\n",
        "  sentence = sentence.translate(str.maketrans(\"\",\"\", string.punctuation))\n",
        "  sentence = sentence.strip()\n",
        "  sentence_tokenize = word_tokenize(sentence)\n",
        "  sentence_no_stopwords = [word for word in sentence_tokenize if not word in stopwords.words()]\n",
        "  res = sentence_no_stopwords\n",
        "  res = [lemmatizer.lemmatize(word) for word in res]\n",
        "  res = ['[CLS]'] + res + ['[SEP]']\n",
        "  return res\n",
        "\n",
        "#padding + bertembeded\n",
        "def bert_embed(tokens, max_len):\n",
        "  padded_tokens = tokens + ['[PAD]' for _ in range(max_len-len(tokens))]\n",
        "  attn_mask = [ 1 if token != '[PAD]' else 0 for token in padded_tokens]\n",
        "  seg_ids=[0 for _ in range(len(padded_tokens))]\n",
        "  sent_ids=tokenizer.convert_tokens_to_ids(padded_tokens)\n",
        "  token_ids = torch.tensor(sent_ids).unsqueeze(0) \n",
        "  attn_mask = torch.tensor(attn_mask).unsqueeze(0) \n",
        "  seg_ids  = torch.tensor(seg_ids).unsqueeze(0)\n",
        "  output = bert_model(token_ids, attention_mask = attn_mask,token_type_ids = seg_ids)\n",
        "\n",
        "  attn_mask = attn_mask.float()\n",
        "\n",
        "\n",
        "  return (output.last_hidden_state)[0] , attn_mask\n",
        "\n",
        "\n",
        "def get_iemocap_raw():\n",
        "    train_text = []\n",
        "    train_seq_len = []\n",
        "    train_label = []\n",
        "\n",
        "    test_text = []\n",
        "    test_seq_len = []\n",
        "    test_label = []\n",
        "\n",
        "    for vid in trainVid:\n",
        "        for i in range(len(videoSentence[vid])):\n",
        "          cur_sentence = videoSentence[vid][i]\n",
        "          cur_label = videoLabels[vid][i]\n",
        "          sentence_tokens = generate_tokens(cur_sentence)\n",
        "          train_text.append(sentence_tokens)\n",
        "          train_label.append(cur_label)\n",
        "    \n",
        "    for vid in testVid:\n",
        "        for i in range(len(videoSentence[vid])):\n",
        "          cur_sentence = videoSentence[vid][i]\n",
        "          cur_label = videoLabels[vid][i]\n",
        "          sentence_tokens = generate_tokens(cur_sentence)\n",
        "          test_text.append(sentence_tokens)\n",
        "          test_label.append(cur_label)\n",
        "    \n",
        "    return train_text, train_label, test_text, test_label\n"
      ],
      "execution_count": null,
      "outputs": [
        {
          "output_type": "stream",
          "text": [
            "[nltk_data] Downloading package stopwords to /root/nltk_data...\n",
            "[nltk_data]   Unzipping corpora/stopwords.zip.\n",
            "[nltk_data] Downloading package punkt to /root/nltk_data...\n",
            "[nltk_data]   Unzipping tokenizers/punkt.zip.\n",
            "[nltk_data] Downloading package wordnet to /root/nltk_data...\n",
            "[nltk_data]   Unzipping corpora/wordnet.zip.\n",
            "['Nick', 'likes', 'play', 'football', ',', 'however', 'fond', 'tennis', '.']\n"
          ],
          "name": "stdout"
        }
      ]
    },
    {
      "cell_type": "code",
      "metadata": {
        "id": "iL4yXzHPsI8I"
      },
      "source": [
        "train_text, train_label, test_text, test_label = get_iemocap_raw()"
      ],
      "execution_count": null,
      "outputs": []
    },
    {
      "cell_type": "code",
      "metadata": {
        "id": "K7SPPW4A0VwO"
      },
      "source": [
        "#Audio loading\n",
        "Audio_file =  pickle.load(open(\"gdrive/MyDrive/audio.pickle\", \"rb\"), encoding='latin1')\n",
        "def load_audio_raw():\n",
        "  train_wav = []\n",
        "  train_sample_rate = []\n",
        "  train_activation = []\n",
        "  train_valence = []\n",
        "  train_dominance = []\n",
        "  train_label = []\n",
        "\n",
        "\n",
        "  test_wav = []\n",
        "  test_sample_rate = []\n",
        "  test_activation = []\n",
        "  test_valence = []\n",
        "  test_dominance = []\n",
        "  test_label = []\n",
        "\n",
        "  for vid in trainVid:\n",
        "    for key in Audio_file[vid].keys():\n",
        "      cur_wav = Audio_file[vid][key]['waveform']\n",
        "      cur_sample_rate = Audio_file[vid][key]['sample_rate']\n",
        "      cur_emotion = Audio_file[vid][key]['emotion']\n",
        "      cur_activation = Audio_file[vid][key]['activation']\n",
        "      cur_valence = Audio_file[vid][key]['valence']\n",
        "      cur_dominance = Audio_file[vid][key]['dominance']\n",
        "\n",
        "      train_wav.append(cur_wav)\n",
        "      train_sample_rate.append(cur_sample_rate)\n",
        "      train_activation.append(cur_activation)\n",
        "      train_valence.append(cur_valence)\n",
        "      train_dominance.append(cur_dominance)\n",
        "\n",
        "      train_label.append(cur_emotion)\n",
        "    \n",
        "  for vid in testVid:\n",
        "    for key in Audio_file[vid].keys():\n",
        "      cur_wav = Audio_file[vid][key]['waveform']\n",
        "      cur_sample_rate = Audio_file[vid][key]['sample_rate']\n",
        "      cur_emotion = Audio_file[vid][key]['emotion']\n",
        "      cur_activation = Audio_file[vid][key]['activation']\n",
        "      cur_valence = Audio_file[vid][key]['valence']\n",
        "      cur_dominance = Audio_file[vid][key]['dominance']\n",
        "\n",
        "      test_wav.append(cur_wav)\n",
        "      test_sample_rate.append(cur_sample_rate)\n",
        "      test_activation.append(cur_activation)\n",
        "      test_valence.append(cur_valence)\n",
        "      test_dominance.append(cur_dominance)\n",
        "\n",
        "      test_label.append(cur_emotion)\n",
        "  \n",
        "  train_info = {\n",
        "      'wav': train_wav,\n",
        "      'sample_rate': train_sample_rate,\n",
        "      'activation': train_activation,\n",
        "      'dominance': train_dominance,\n",
        "      'valence': train_valence,\n",
        "      'label': train_label\n",
        "  }\n",
        "\n",
        "  test_info = {\n",
        "      'wav': test_wav,\n",
        "      'sample_rate': test_sample_rate,\n",
        "      'activation': test_activation,\n",
        "      'dominance': test_dominance,\n",
        "      'valence': test_valence,\n",
        "      'label': test_label\n",
        "  }\n",
        "\n",
        "\n",
        "    \n",
        "  return train_info, test_info"
      ],
      "execution_count": null,
      "outputs": []
    },
    {
      "cell_type": "code",
      "metadata": {
        "id": "9g47my8lYXyy"
      },
      "source": [
        "train_audio_info, test_audio_info = load_audio_raw()"
      ],
      "execution_count": null,
      "outputs": []
    },
    {
      "cell_type": "markdown",
      "metadata": {
        "id": "XsII_ABjt4I7"
      },
      "source": [
        "#Raw Text Dataset Class "
      ]
    },
    {
      "cell_type": "code",
      "metadata": {
        "id": "ldbCKsMPt6-2"
      },
      "source": [
        "class TextRaw_dataset(Dataset):\n",
        "    def __init__(self, tokens, labels, max_len):\n",
        "        self.data = tokens\n",
        "        self.labels = labels\n",
        "        self.max_len = max_len\n",
        "    def __getitem__(self, idx):\n",
        "        text_tokens = self.data[idx]\n",
        "        label = [float(self.labels[idx])]\n",
        "        embeded, mask = bert_embed(text_tokens, self.max_len)\n",
        "        mask = torch.Tensor(mask).float()\n",
        "        label = torch.Tensor(label).float()\n",
        "\n",
        "\n",
        "        embeded_no_grad = embeded.detach()\n",
        "        mask.requires_grad = False\n",
        "        label.requires_grad = False\n",
        "        \n",
        "        return (embeded_no_grad, mask, label)\n",
        "        \n",
        "    def __len__(self):\n",
        "        return len(self.data)"
      ],
      "execution_count": null,
      "outputs": []
    },
    {
      "cell_type": "markdown",
      "metadata": {
        "id": "j-Uq5pOwrw-W"
      },
      "source": [
        "# Train-text modality\n"
      ]
    },
    {
      "cell_type": "code",
      "metadata": {
        "id": "NWfKELRJr5CS"
      },
      "source": [
        "from tqdm import tqdm\n",
        "import torch.optim as optim\n",
        "import numpy as np\n",
        "import torch\n",
        "import matplotlib.pyplot as plt\n",
        "import copy\n",
        "%matplotlib inline\n",
        "\n",
        "class TrainRaw():\n",
        "  def __init__(self):\n",
        "    self.device = torch.device(\"cuda:0\" if torch.cuda.is_available() else \"cpu\")\n",
        "    print(self.device)\n",
        "    self.max_len = 49\n",
        "    self.batch_size = 35\n",
        "    self.plot_every = 83 # plot the avg loss of 8 batches\n",
        "\n",
        "    #get iemocap text data\n",
        "    self.train_text, self.train_label, self.test_text, self.test_label = train_text, train_label, test_text, test_label # get_iemocap_raw()\n",
        "    self.trainRaw = TextRaw_dataset(self.train_text, self.train_label, self.max_len)\n",
        "    self.testRaw = TextRaw_dataset(self.test_text, self.test_label, self.max_len)\n",
        "\n",
        "    self.dataloader1 = DataLoader(self.trainRaw, batch_size=self.batch_size, shuffle=True, num_workers=4)\n",
        "    self.dataloader2 = DataLoader(self.testRaw, batch_size=self.batch_size, shuffle=True, num_workers=4)\n",
        "    \n",
        "    self.net = LSTM_Classifer(input_dim=768, hidden_dim=100, output_dim=100, class_num=6).to(self.device)\n",
        "\n",
        "    self.plot_train_losses = []\n",
        "    self.plot_test_losses = []\n",
        "    self.test_acc_l = []\n",
        "    self.train_acc_l = []\n",
        "\n",
        "    self.best_acc = 0\n",
        "    self.train()\n",
        "\n",
        "   \n",
        "\n",
        "  def train(self):\n",
        "    EPOCHS = 20\n",
        "    self.optimizer = optim.Adam(self.net.parameters(), lr=0.0001)\n",
        "    self.scheduler = optim.lr_scheduler.ReduceLROnPlateau(self.optimizer, factor=0.75, patience=2, verbose=True)\n",
        "    self.loss_function = nn.CrossEntropyLoss()\n",
        "    self.test_loss()\n",
        "    for epoch in range(EPOCHS):\n",
        "      batch_index = 1\n",
        "      loss_sum = 0\n",
        "      correct_cnt = 0\n",
        "      for  X, mask, label in tqdm(self.dataloader1):\n",
        "        self.optimizer.zero_grad()\n",
        "        batch_index += 1\n",
        "        X = X.permute([1, 0, 2])\n",
        "        X = X.to(self.device)\n",
        "        label = label.long().to(self.device)\n",
        "        label = label.reshape(self.batch_size)\n",
        "        output = self.net(X) \n",
        "        loss = self.loss_function(output, label)     \n",
        "        loss_sum += loss.item()\n",
        "\n",
        "        # save for train acc\n",
        "        pred = torch.max(output, axis=1).indices      \n",
        "        eq = torch.eq(label, pred)     \n",
        "        correct_cnt += torch.sum(eq)\n",
        "\n",
        "        # calculate loss and accuracy\n",
        "        if (batch_index % self.plot_every == 0):\n",
        "          avg_loss = loss_sum / (self.plot_every * self.batch_size)\n",
        "          #print(avg_loss)\n",
        "          self.plot_train_losses.append(avg_loss)\n",
        "          loss_sum = 0\n",
        "\n",
        "          test_loss, test_acc = self.test_loss()\n",
        "          self.plot_test_losses.append(test_loss)\n",
        "          self.test_acc_l.append(test_acc)\n",
        "\n",
        "          train_acc = float(correct_cnt / (self.plot_every * self.batch_size))\n",
        "          correct_cnt = 0\n",
        "          self.train_acc_l.append(train_acc)\n",
        "\n",
        "          print(f\"Epoch: {epoch}. Train Loss: {avg_loss}. Train Acc: {train_acc}. Test Loss: {test_loss}. Test Acc: {test_acc}\")\n",
        "          self.plot(self.plot_train_losses, self.plot_test_losses, \"train_loss\", \"validation_loss\")\n",
        "          self.plot(self.train_acc_l, self.test_acc_l, \"train_acc\", \"validation_acc\")\n",
        "\n",
        "\n",
        "        loss.backward()\n",
        "        self.optimizer.step()\n",
        "\n",
        "      #self.plot()\n",
        "      # train_loss = float(loss_sum / batch_index)\n",
        "      # self.plot_train_losses.append(train_loss)\n",
        "      #print(f\"Epoch: {epoch}. Loss: {train_loss}\")\n",
        "      # test_loss = self.test_loss()\n",
        "      self.scheduler.step(test_loss)\n",
        "      # self.plot_test_losses.append(test_loss)\n",
        "\n",
        "    # self.test_loss()\n",
        "  \n",
        "  \n",
        "  \n",
        "  def test_loss(self):\n",
        "    with torch.no_grad():\n",
        "      loss_sum = 0\n",
        "      batch_index = 0\n",
        "      correct_cnt = 0\n",
        "      for X, mask, label in self.dataloader2:\n",
        "        batch_index += 1\n",
        "        X = X.permute([1, 0, 2])\n",
        "        X = X.to(self.device)\n",
        "        label = label.long().to(self.device)\n",
        "        if (len(label)) < self.batch_size:\n",
        "          continue\n",
        "        label = label.reshape(self.batch_size)\n",
        "        output = self.net(X)\n",
        "        loss = self.loss_function(output, label)\n",
        "        loss_sum += loss.item()\n",
        "\n",
        "        pred = torch.max(output, axis=1).indices      \n",
        "        eq = torch.eq(label, pred)\n",
        "        # print(\"pred\", pred)     \n",
        "        # print(\"label\", label)\n",
        "        correct_cnt += torch.sum(eq)\n",
        "      \n",
        "\n",
        "    avg_loss = loss_sum / (batch_index * self.batch_size)\n",
        "    # print(\"denom\", batch_index * self.batch_size)\n",
        "    # print(\"num\", correct_cnt * self.batch_size)\n",
        "    acc = float(correct_cnt/ (batch_index * self.batch_size))\n",
        "    #print(\"acc:\", acc)\n",
        "    return avg_loss, acc\n",
        "    \n",
        "  def plot(self, l1, l2, label1, label2):\n",
        "    plt.plot(l1, 'b', label=label1)\n",
        "    plt.plot(l2, 'g', label=label2)\n",
        "    plt.legend()\n",
        "    plt.show()\n",
        "\n",
        "\n",
        "\n",
        "#T = TrainRaw()"
      ],
      "execution_count": null,
      "outputs": []
    },
    {
      "cell_type": "code",
      "metadata": {
        "id": "vuQJx25yvmBd"
      },
      "source": [
        "trained_text_model = TrainRaw()"
      ],
      "execution_count": null,
      "outputs": []
    },
    {
      "cell_type": "code",
      "metadata": {
        "id": "MFRJMRP5G8pj"
      },
      "source": [
        "saved_text_model = {\n",
        "    'train_epochs': 20,\n",
        "    'model': trained_text_model.net.state_dict(),\n",
        "    'optimizer': trained_text_model.optimizer.state_dict(),\n",
        "    'criterion': trained_text_model.loss_function.state_dict(),\n",
        "    'scheduler': trained_text_model.scheduler.state_dict(),\n",
        "    'plot_train_losses': trained_text_model.plot_train_losses,\n",
        "    'plot_test_losses': trained_text_model.plot_test_losses,\n",
        "    'test_acc_l': trained_text_model.test_acc_l,\n",
        "    'train_acc_l':  trained_text_model.train_acc_l\n",
        "}\n",
        "\n",
        "torch.save(saved_text_model, 'gdrive/MyDrive/complete_model{}'.format(20))"
      ],
      "execution_count": null,
      "outputs": []
    },
    {
      "cell_type": "code",
      "metadata": {
        "colab": {
          "base_uri": "https://localhost:8080/"
        },
        "id": "jOYxIrn0LZpA",
        "outputId": "7098738b-51df-40e4-a89a-38d795360245"
      },
      "source": [
        "checkpoint = torch.load('gdrive/MyDrive/complete_model{}')\n",
        "trained_text_model = LSTM_Classifer(input_dim=768, hidden_dim=100, output_dim=100, class_num=6).to(device)\n",
        "trained_text_model.load_state_dict(checkpoint['model'])\n",
        "trained_text_model.eval()"
      ],
      "execution_count": null,
      "outputs": [
        {
          "output_type": "execute_result",
          "data": {
            "text/plain": [
              "LSTM_Classifer(\n",
              "  (lstm): LSTM(768, 100)\n",
              "  (fc1): Linear(in_features=100, out_features=100, bias=True)\n",
              "  (act1): ReLU()\n",
              "  (output_layer): Linear(in_features=100, out_features=6, bias=True)\n",
              "  (dropoutLayer): Dropout(p=0.5, inplace=False)\n",
              ")"
            ]
          },
          "metadata": {
            "tags": []
          },
          "execution_count": 28
        }
      ]
    },
    {
      "cell_type": "markdown",
      "metadata": {
        "id": "ywWeAsaF1eVe"
      },
      "source": [
        "# Audio Dataset\n"
      ]
    },
    {
      "cell_type": "code",
      "metadata": {
        "id": "dYwCQvi-1k6B"
      },
      "source": [
        "# path\n",
        "# waveform\n",
        "# sample_rate\n",
        "# emotion\n",
        "# activation\n",
        "# valence\n",
        "# dominance\n",
        "audio_d = pickle.load(open(\"gdrive/MyDrive/audio.pickle\", \"rb\"), encoding='latin1')"
      ],
      "execution_count": null,
      "outputs": []
    },
    {
      "cell_type": "code",
      "metadata": {
        "id": "fEc4z6-f11rY"
      },
      "source": [
        "class Iemocap_audio_dataset(object):\n",
        "\n",
        "  #Vids is either trainVid or testVid\n",
        "  def __init__(self, Vids):\n",
        "      self.audio_data = []\n",
        "      for vid in Vids:\n",
        "        for utt in videoIDs[vid]:\n",
        "          cur_utt = audio_d[vid][utt]\n",
        "\n",
        "          sample = {\n",
        "            'path': cur_utt['path'],\n",
        "            'waveform': torch.tensor(cur_utt['waveform']),\n",
        "            'sample_rate': cur_utt['sample_rate'],\n",
        "            'emotion': cur_utt['emotion'],\n",
        "            'activation': cur_utt['activation'],\n",
        "            'valence': cur_utt['valence'],\n",
        "            'dominance': cur_utt['dominance']\n",
        "          }\n",
        "          self.audio_data.append(sample)\n",
        "  \n",
        "  def __len__(self):\n",
        "    return len(self.audio_data)\n",
        "\n",
        "  def __getitem__(self, idx):\n",
        "    if torch.is_tensor(idx):\n",
        "      idx = idx.tolist()\n",
        "    return self.audio_data[idx]\n",
        "    \n",
        "\n",
        "\n"
      ],
      "execution_count": null,
      "outputs": []
    },
    {
      "cell_type": "code",
      "metadata": {
        "id": "DOf8qD_dG6w9"
      },
      "source": [
        "# train_audio =  Iemocap_audio_dataset(trainVid)\n",
        "# test_audio =  Iemocap_audio_dataset(testVid)\n",
        "# print(len(audio_train))"
      ],
      "execution_count": null,
      "outputs": []
    },
    {
      "cell_type": "code",
      "metadata": {
        "colab": {
          "base_uri": "https://localhost:8080/"
        },
        "id": "8XhE3sk_SEg0",
        "outputId": "99ba7534-577d-4bcf-aa4c-527af354a92f"
      },
      "source": [
        "# iemocap_dataset = train_audio\n",
        "# def f():\n",
        "#     cnt = 0\n",
        "#     for i in range(len(iemocap_dataset)):\n",
        "#         sample = iemocap_dataset[i]\n",
        "#         print(type(sample))\n",
        "#         print(i, sample)\n",
        "#         cnt += 1\n",
        "#         if cnt > 1:\n",
        "#             return\n",
        "# f()\n"
      ],
      "execution_count": null,
      "outputs": [
        {
          "output_type": "stream",
          "text": [
            "<class 'dict'>\n",
            "0 {'path': '/home/yudong/Private/datasets/IEMOCAP/IEMOCAP_full_release/IEMOCAP_full_release/Session1/sentences/wav/Ses01F_impro01/Ses01F_impro01_F000.wav', 'waveform': tensor([[-0.0050, -0.0050, -0.0038,  ..., -0.0027, -0.0032, -0.0042]]), 'sample_rate': 16000, 'emotion': 2.0, 'activation': 2.5, 'valence': 2.5, 'dominance': 2.5}\n",
            "<class 'dict'>\n",
            "1 {'path': '/home/yudong/Private/datasets/IEMOCAP/IEMOCAP_full_release/IEMOCAP_full_release/Session1/sentences/wav/Ses01F_impro01/Ses01F_impro01_M000.wav', 'waveform': tensor([[-0.0035, -0.0031, -0.0063,  ...,  0.0034,  0.0027,  0.0026]]), 'sample_rate': 16000, 'emotion': 5.0, 'activation': 2.5, 'valence': 2.0, 'dominance': 2.5}\n"
          ],
          "name": "stdout"
        }
      ]
    },
    {
      "cell_type": "code",
      "metadata": {
        "id": "gtz3hfM2HqgD"
      },
      "source": [
        "def collage_fn_vgg(batch):\n",
        "        # Clip or pad each utterance audio into 4.020 seconds.\n",
        "        sample_rate = 16000\n",
        "        n_channels = 1\n",
        "        frame_length = int(4.020 * sample_rate)\n",
        "\n",
        "        # Initialize output\n",
        "        waveforms = torch.zeros(0, n_channels, frame_length)\n",
        "        emotions = torch.zeros(0)\n",
        "\n",
        "        for item in batch:\n",
        "            waveform = item['waveform']\n",
        "            original_waveform_length = waveform.shape[1]\n",
        "            padded_waveform = F.pad(waveform, (0, frame_length - original_waveform_length)) if original_waveform_length < frame_length else waveform[:, :frame_length]\n",
        "            waveforms = torch.cat((waveforms, padded_waveform.unsqueeze(0)))\n",
        "            emotions = torch.cat((emotions, torch.tensor([item['emotion']])), 0)\n",
        "\n",
        "        return waveforms, emotions"
      ],
      "execution_count": null,
      "outputs": []
    },
    {
      "cell_type": "markdown",
      "metadata": {
        "id": "yXpYEjzJIT6O"
      },
      "source": [
        "# Train audio modality"
      ]
    },
    {
      "cell_type": "code",
      "metadata": {
        "id": "PFU6MRDSLNea"
      },
      "source": [
        "import torch.nn as nn\n",
        "import torch.nn.functional as F\n",
        "\n",
        "class VGG_convnet(nn.Module):\n",
        "\n",
        "    def __init__(self):\n",
        "\n",
        "        super(VGG_convnet, self).__init__()\n",
        "\n",
        "        # block 1:        1 x 64240 --> 64 x 200\n",
        "        self.conv1a = nn.Conv1d(1, 64, kernel_size=400, stride=160)\n",
        "        self.conv1b = nn.Conv1d(64, 64, kernel_size=3, padding=1)\n",
        "        self.pool1 = nn.MaxPool1d(2)\n",
        "\n",
        "        # block 2:          64 x 200 --> 128 x 50\n",
        "        self.conv2a = nn.Conv1d(64, 128, kernel_size=3, padding=1)\n",
        "        self.conv2b = nn.Conv1d(128, 128, kernel_size=3, padding=1)\n",
        "        self.pool2 = nn.MaxPool1d(4)\n",
        "\n",
        "        # block 3:          128 x 50 --> 256 x 12\n",
        "        self.conv3a = nn.Conv1d(128, 256, kernel_size=3, padding=1)\n",
        "        self.conv3b = nn.Conv1d(256, 256, kernel_size=3, padding=1)\n",
        "        self.pool3 = nn.MaxPool1d(4)\n",
        "\n",
        "        # block 4:          256 x 12 --> 512 x 4\n",
        "        self.conv4a = nn.Conv1d(256, 512, kernel_size=3, padding=1)\n",
        "        self.pool4 = nn.MaxPool1d(3)\n",
        "\n",
        "        # linear layers:    512 x 4 --> 2048 --> 4096 --> 4096 --> 9\n",
        "        self.linear1 = nn.Linear(2048, 4096)\n",
        "        self.linear2 = nn.Linear(4096, 4096)\n",
        "        self.linear3 = nn.Linear(4096, 100)\n",
        "        self.linear4 = nn.Linear(100, 6)\n",
        "\n",
        "    def forward(self, x, get_embed=False):\n",
        "\n",
        "        # block 1\n",
        "        x = self.conv1a(x)\n",
        "        x = F.relu(x)\n",
        "        x = self.conv1b(x)\n",
        "        x = F.relu(x)\n",
        "        x = self.pool1(x)\n",
        "\n",
        "        # block 2\n",
        "        x = self.conv2a(x)\n",
        "        x = F.relu(x)\n",
        "        x = self.conv2b(x)\n",
        "        x = F.relu(x)\n",
        "        x = self.pool2(x)\n",
        "\n",
        "        # block 3\n",
        "        x = self.conv3a(x)\n",
        "        x = F.relu(x)\n",
        "        x = self.conv3b(x)\n",
        "        x = F.relu(x)\n",
        "        x = self.pool3(x)\n",
        "\n",
        "        # block 4:\n",
        "        x = self.conv4a(x)\n",
        "        x = F.relu(x)\n",
        "        x = self.pool4(x)\n",
        "\n",
        "        # linear layers\n",
        "        x = x.view(-1, 2048)\n",
        "        x = self.linear1(x)\n",
        "        x = F.relu(x)\n",
        "        x = self.linear2(x)\n",
        "        x = F.relu(x)\n",
        "        x = self.linear3(x)\n",
        "        x = F.relu(x)\n",
        "        if get_embed:\n",
        "          return x\n",
        "        x = self.linear4(x)\n",
        "\n",
        "        return x\n",
        "    \n"
      ],
      "execution_count": null,
      "outputs": []
    },
    {
      "cell_type": "code",
      "metadata": {
        "id": "vfYSoKx4I2oM"
      },
      "source": [
        "audio_d = pickle.load(open(\"gdrive/MyDrive/audio.pickle\", \"rb\"), encoding='latin1')\n",
        "audio_trainset =  Iemocap_audio_dataset(trainVid)\n",
        "audio_testset =  Iemocap_audio_dataset(testVid)"
      ],
      "execution_count": null,
      "outputs": []
    },
    {
      "cell_type": "code",
      "metadata": {
        "id": "lEoF67JhIauX"
      },
      "source": [
        "import copy\n",
        "from torch.optim import lr_scheduler\n",
        "class Train_audio():\n",
        "  def __init__(self):\n",
        "    self.audio_trainset = audio_trainset\n",
        "    self.audio_testset = audio_testset\n",
        "    self.device = torch.device(\"cuda:0\" if torch.cuda.is_available() else \"cpu\")\n",
        "    print(self.device)\n",
        "    self.batch_size = 35\n",
        "    self.EPOCHS = 10\n",
        "\n",
        "    self.train_loss_l = []\n",
        "    self.test_loss_l = []\n",
        "\n",
        "    self.train_acc_l = []\n",
        "    self.test_acc_l = []\n",
        "\n",
        "\n",
        "    # self.dataloader1 = DataLoader(self.audio_trainset, batch_size=self.batch_size, shuffle=True, num_workers=4)\n",
        "    # self.dataloader2 = DataLoader(self.audio_testset, batch_size=self.batch_size, shuffle=True, num_workers=4)\n",
        "    datasets = {\n",
        "    'train': self.audio_trainset,\n",
        "    'val': self.audio_testset }\n",
        "\n",
        "    dataset_sizes = { x: len(datasets[x]) for x in ['train', 'val'] }\n",
        "    self.dataloaders = { x: torch.utils.data.DataLoader(datasets[x], batch_size=self.batch_size, shuffle=True, num_workers=4, collate_fn=collage_fn_vgg) for x in ['train', 'val'] }\n",
        "    self.dataset_sizes = { x: len(datasets[x]) for x in ['train', 'val'] }\n",
        "    self.model = VGG_convnet().to(self.device)\n",
        "    self.criterion = nn.CrossEntropyLoss()\n",
        "    self.optimizer_ft = optim.Adam(self.model.parameters(), lr=0.001)\n",
        "    self.exp_lr_scheduler = lr_scheduler.StepLR(self.optimizer_ft, step_size=7, gamma=0.1)\n",
        "    self.model = self.train(self.model, self.criterion, self.optimizer_ft,  self.exp_lr_scheduler, self.EPOCHS)\n",
        "    self.datasets = datasets\n",
        "\n",
        "\n",
        "  \n",
        "  def train(self, model, criterion, optimizer, scheduler, num_epochs):\n",
        "    best_acc = 0\n",
        "    for epoch in range(num_epochs):\n",
        "        print('Epoch {}/{}'.format(epoch, num_epochs - 1))\n",
        "       \n",
        "        # Each epoch has a training and validation phase\n",
        "        for phase in ['train', 'val']:\n",
        "            if phase == 'train':\n",
        "                model.train()   # Set model to training mode\n",
        "            else:\n",
        "                model.eval()    # Set model to evaluate mode\n",
        "\n",
        "            running_loss = 0.0\n",
        "            running_corrects = 0\n",
        "\n",
        "            # Iterate over data.\n",
        "            for inputs, labels in self.dataloaders[phase]:\n",
        "                inputs = inputs.to(device)\n",
        "                labels = labels.long().to(device)\n",
        "\n",
        "                # zero the parameter gradients\n",
        "                optimizer.zero_grad()\n",
        "\n",
        "                # forward\n",
        "                # track history if only in train\n",
        "                with torch.set_grad_enabled(phase == 'train'):\n",
        "                    outputs = model(inputs)\n",
        "                    _, preds = torch.max(outputs, 1)\n",
        "                    loss = criterion(outputs, labels)\n",
        "\n",
        "                    # backward + optimize only if in training phase\n",
        "                    if phase == 'train':\n",
        "                        loss.backward()\n",
        "                        optimizer.step()\n",
        "\n",
        "                # statistics\n",
        "                running_loss += loss.item() * inputs.size(0)\n",
        "                running_corrects += torch.sum(preds == labels.data)\n",
        "\n",
        "            if phase == 'train':\n",
        "                scheduler.step()\n",
        "\n",
        "            epoch_loss = running_loss / self.dataset_sizes[phase]\n",
        "            epoch_acc = running_corrects.double() / self.dataset_sizes[phase]\n",
        "\n",
        "            if phase == 'train':\n",
        "              self.train_loss_l.append(epoch_loss)\n",
        "              self.train_acc_l.append(epoch_acc)\n",
        "            \n",
        "            else:\n",
        "              self.test_loss_l.append(epoch_loss)\n",
        "              self.test_acc_l.append(epoch_acc)\n",
        "\n",
        "\n",
        "            print('{} Loss: {:.4f} Acc: {:.4f}'.format(phase, epoch_loss, epoch_acc))\n",
        "\n",
        "            # deep copy the model\n",
        "            if phase == 'val' and epoch_acc > best_acc:\n",
        "                best_acc = epoch_acc\n",
        "                best_model_wts = copy.deepcopy(model.state_dict())\n",
        "    \n",
        "    self.plot(self.train_loss_l, self.test_loss_l, \"train_loss\", \"validation_loss\")\n",
        "    self.plot(self.train_acc_l, self.test_acc_l, \"train_acc\", \"validation_acc\")\n",
        "\n",
        "\n",
        "    #time_elapsed = time.time() - since\n",
        "    #print('raining complete in {:.0f}m {:.0f}s'.format(time_elapsed // 60, time_elapsed % 60))\n",
        "    print('Best val Acc: {:4f}'.format(best_acc))\n",
        "\n",
        "    # load best model weights\n",
        "    model.load_state_dict(best_model_wts)\n",
        "    return model\n",
        "  \n",
        "\n",
        "  def get_embed(self):\n",
        "    dataloaders = { x: torch.utils.data.DataLoader(self.datasets[x], batch_size=35, shuffle=False, num_workers=4, collate_fn=collage_fn_vgg) for x in ['train', 'val'] }\n",
        "    d = dict()\n",
        "    with torch.no_grad():\n",
        "      for phase in ['train', 'val']:\n",
        "        d[phase] = []\n",
        "        for inputs, labels in dataloaders[phase]:\n",
        "          inputs = inputs.to(device)\n",
        "          labels = labels.long().to(device)\n",
        "          outputs = self.model(inputs, get_embed=True)\n",
        "          d[phase].append(outputs)\n",
        "        d[phase] = torch.cat(d[phase], dim=0)\n",
        "    return d\n",
        "\n",
        "\n",
        "  def plot(self, l1, l2, label1, label2):\n",
        "    plt.plot(l1, 'b', label=label1)\n",
        "    plt.plot(l2, 'g', label=label2)\n",
        "    plt.legend()\n",
        "    plt.show()\n",
        "    \n",
        "    \n"
      ],
      "execution_count": null,
      "outputs": []
    },
    {
      "cell_type": "code",
      "metadata": {
        "id": "n25Pmyugdy8C"
      },
      "source": [
        "# d = train.get_embed()"
      ],
      "execution_count": null,
      "outputs": []
    },
    {
      "cell_type": "code",
      "metadata": {
        "colab": {
          "base_uri": "https://localhost:8080/"
        },
        "id": "CAwxgEnyfYjZ",
        "outputId": "48e98307-f834-4862-ad68-749cc287a60f"
      },
      "source": [
        "# tr = d['train']\n",
        "# print(np.shape(tr))"
      ],
      "execution_count": null,
      "outputs": [
        {
          "output_type": "stream",
          "text": [
            "torch.Size([5810, 100])\n"
          ],
          "name": "stdout"
        }
      ]
    },
    {
      "cell_type": "code",
      "metadata": {
        "colab": {
          "base_uri": "https://localhost:8080/"
        },
        "id": "lOM4AfUnq2rr",
        "outputId": "473bdc06-8171-4380-9186-045358986443"
      },
      "source": [
        "# print(np.shape(tr[0]))"
      ],
      "execution_count": null,
      "outputs": [
        {
          "output_type": "stream",
          "text": [
            "torch.Size([100])\n"
          ],
          "name": "stdout"
        }
      ]
    },
    {
      "cell_type": "code",
      "metadata": {
        "colab": {
          "base_uri": "https://localhost:8080/",
          "height": 1000
        },
        "id": "0pKDluBkPBNZ",
        "outputId": "3106243d-4b49-4651-d670-8b16d21202ac"
      },
      "source": [
        "trained_audio_model = Train_audio()"
      ],
      "execution_count": null,
      "outputs": [
        {
          "output_type": "stream",
          "text": [
            "cuda:0\n",
            "Epoch 0/9\n",
            "train Loss: 1.7430 Acc: 0.2361\n",
            "val Loss: 1.7489 Acc: 0.2292\n",
            "Epoch 1/9\n",
            "train Loss: 1.6411 Acc: 0.2928\n",
            "val Loss: 1.6036 Acc: 0.2951\n",
            "Epoch 2/9\n",
            "train Loss: 1.5412 Acc: 0.3552\n",
            "val Loss: 1.5675 Acc: 0.3580\n",
            "Epoch 3/9\n",
            "train Loss: 1.5187 Acc: 0.3747\n",
            "val Loss: 1.5725 Acc: 0.3420\n",
            "Epoch 4/9\n",
            "train Loss: 1.4934 Acc: 0.3842\n",
            "val Loss: 1.5743 Acc: 0.3623\n",
            "Epoch 5/9\n",
            "train Loss: 1.4863 Acc: 0.3960\n",
            "val Loss: 1.5752 Acc: 0.3426\n",
            "Epoch 6/9\n",
            "train Loss: 1.4674 Acc: 0.4040\n",
            "val Loss: 1.6360 Acc: 0.3715\n",
            "Epoch 7/9\n",
            "train Loss: 1.4181 Acc: 0.4182\n",
            "val Loss: 1.5549 Acc: 0.3715\n",
            "Epoch 8/9\n",
            "train Loss: 1.3961 Acc: 0.4301\n",
            "val Loss: 1.5575 Acc: 0.3580\n",
            "Epoch 9/9\n",
            "train Loss: 1.3842 Acc: 0.4349\n",
            "val Loss: 1.5618 Acc: 0.3604\n"
          ],
          "name": "stdout"
        },
        {
          "output_type": "display_data",
          "data": {
            "image/png": "[encoded data removed]",
            "text/plain": [
              "<Figure size 432x288 with 1 Axes>"
            ]
          },
          "metadata": {
            "tags": [],
            "needs_background": "light"
          }
        },
        {
          "output_type": "display_data",
          "data": {
            "image/png": "[encoded data removed]",
            "text/plain": [
              "<Figure size 432x288 with 1 Axes>"
            ]
          },
          "metadata": {
            "tags": [],
            "needs_background": "light"
          }
        },
        {
          "output_type": "stream",
          "text": [
            "Best val Acc: 0.371534\n"
          ],
          "name": "stdout"
        }
      ]
    },
    {
      "cell_type": "markdown",
      "metadata": {
        "id": "inBeJ8tyz6mM"
      },
      "source": [
        "#LSTM Utterance"
      ]
    },
    {
      "cell_type": "code",
      "metadata": {
        "id": "Rsj55k9Gz6Di"
      },
      "source": [
        "class LSTM_Utter(nn.Module):\n",
        "  def __init__(self, input_dim, hidden_dim, num_classes, dropout = 0.5):\n",
        "    super(LSTM_Utter, self ).__init__() \n",
        "    self.num_classes = num_classes\n",
        "    self.input_dim = input_dim\n",
        "    self.hidden_dim = hidden_dim\n",
        "    self.dropout_rate = dropout\n",
        "    self.lstm = nn.LSTM(input_size = input_dim, hidden_size = hidden_dim, num_layers = 2, bidirectional = True, dropout=dropout)\n",
        "    self.actattn = nn.ReLU()\n",
        "    self.attn_dim = 2 * hidden_dim\n",
        "    self.attentionfc = nn.Linear(self.attn_dim, self.attn_dim)\n",
        "\n",
        "    # enter linear classifier after exiting from attention\n",
        "    self.fc1 = nn.Linear(self.attn_dim, 100)\n",
        "    self.act1 = nn.ReLU()\n",
        "    self.output_layer = nn.Linear(100, self.num_classes)\n",
        "    self.dropout_layer = nn.Dropout(dropout)\n",
        "\n",
        "  def attention(self, x_encode, x_lstmout, mask):\n",
        "    # assert(output)\n",
        "    # x_encode => (batch, hidden)\n",
        "    # M => (seqlen, batch, output)\n",
        "    # mask => (batch, seqlen)\n",
        "    # print(\"x_encode\",np.shape(x_encode))\n",
        "    # print(\"x_lstmout\", np.shape(x_lstmout))\n",
        "    # print(\"mask\",np.shape(mask))\n",
        "    mask_seq = mask.unsqueeze(2)\n",
        "    mask_seq = mask_seq.repeat(1, 1, self.attn_dim) #mask_seq => (batch, seqlen, output)\n",
        "    transposed_seq = x_lstmout.transpose(0, 1) #transposed_seq => (batch, seqlen, output)\n",
        "    masked_output = transposed_seq * mask_seq #masked_output => (batch, seqlen, output)\n",
        "\n",
        "    x_hidden = self.attentionfc(x_encode)\n",
        "    x_hidden = torch.unsqueeze(x_hidden, 1)  #x_hidden => (batch, 1, output) \n",
        "\n",
        "    attn = torch.bmm(x_hidden, masked_output.transpose(1, 2)) #attn => (batch, 1, seqlen)\n",
        "    masked_attn = torch.tanh(attn * torch.unsqueeze(mask, 1)) #attn => (batch, 1, seqlen)\n",
        "    normalized_attn = F.softmax(masked_attn, dim=2) #normalized_attn => (batch, 1, seqlen)\n",
        "\n",
        "    attn_sum = torch.sum(normalized_attn * torch.unsqueeze(mask, 1), dim=2, keepdim=True) # batch, 1, 1\n",
        "    normalized_attn = normalized_attn / attn_sum  # batch, 1, seqlen ; normalized\n",
        "    attn_pool = torch.bmm(normalized_attn, transposed_seq) # batch, 1, output\n",
        "    return attn_pool[:,0,:]\n",
        "\n",
        "  def forward(self, x, mask):\n",
        "    x_lstmout, (hidden_res,c) = self.lstm(x)\n",
        "    attention_info = []\n",
        "\n",
        "    for x_encode in x_lstmout:\n",
        "      attn_pool = self.attention(x_encode, x_lstmout, mask)\n",
        "      attn_pool = torch.unsqueeze(attn_pool, 0)\n",
        "      attention_info.append(attn_pool)\n",
        "\n",
        "    attn_res  = torch.cat(attention_info,dim=0) # => seqlen, batch, output\n",
        "    res = self.fc1(attn_res)\n",
        "    res = self.act1(res)\n",
        "    res = self.dropout_layer(res)\n",
        "    out = self.output_layer(res) # => (seqlen, batch, 6) \n",
        "    return out"
      ],
      "execution_count": null,
      "outputs": []
    },
    {
      "cell_type": "markdown",
      "metadata": {
        "id": "yAbT6BOrro_n"
      },
      "source": [
        "# Utterance: data preprocessing\n"
      ]
    },
    {
      "cell_type": "markdown",
      "metadata": {
        "id": "QutAh7_q6njs"
      },
      "source": [
        "\n",
        "*   train_text -> encoder -> train_encoded\n",
        "\n",
        "*   test_text -> encoder -> test_encoded\n"
      ]
    },
    {
      "cell_type": "code",
      "metadata": {
        "id": "jNmWvFdioLsk"
      },
      "source": [
        "embed_audio_train = trained_audio_model.get_embed()['train'].detach().to('cpu')\n",
        "embed_audio_test = trained_audio_model.get_embed()['val'].detach().to('cpu')"
      ],
      "execution_count": null,
      "outputs": []
    },
    {
      "cell_type": "code",
      "metadata": {
        "id": "Gl0WdV-7rt1K"
      },
      "source": [
        "def utterances_padding(x, max_utterance_len):\n",
        "  assert(len(x.shape) == 2)\n",
        "  encoded_dim = x.shape[1]\n",
        "  seqlen = x.shape[0]\n",
        "  padding = torch.zeros(max_utterance_len - seqlen, encoded_dim).float()\n",
        "  padded_res = np.concatenate((x, padding))\n",
        "  seqlen = x.shape[0]\n",
        "  mask = torch.zeros(max_utterance_len, encoded_dim).float()\n",
        "  mask[0:seqlen, :] = 1.0\n",
        "  return padded_res, mask\n",
        "\n",
        "def label_padding(label, max_utterance_len):\n",
        "  seqlen = label.shape[0]\n",
        "  padding = torch.zeros(max_utterance_len - seqlen).float()\n",
        "  padded_res = np.concatenate((label, padding))\n",
        "\n",
        "  mask = torch.zeros(max_utterance_len).float()\n",
        "  mask[0:seqlen] = 1.0\n",
        "  return padded_res, mask\n",
        "\n",
        "\n",
        "(utterance_count, max_sentence_len, 768) => encode => (utterances_count, hidden_size)\n",
        "def get_iemocap_encoded(model, sentence_max_len):\n",
        "  #model should be pretrained LSTM_Classifier type \n",
        "  #sentence_max_len <=> model\n",
        "  train_video = []\n",
        "  train_video_label = []\n",
        "  test_video = []\n",
        "  test_video_label = []\n",
        "\n",
        "  # embed_audio_train = train.get_embed()['train'].detach().to('cpu')\n",
        "  # embed_audio_test = train.get_embed()['val'].detach().to('cpu')\n",
        "  # cnt = 0\n",
        "  idx = -1\n",
        "  for vid in trainVid:\n",
        "    # cnt += 1\n",
        "    # if (cnt > 2):\n",
        "    #   break\n",
        "    vid_sentences = []\n",
        "    vid_audio = []\n",
        "    vid_labels = videoLabels[vid]\n",
        "    vid_labels = torch.Tensor(vid_labels).float()\n",
        "    vid_labels.requires_grad = False\n",
        "    for i in range(len(videoSentence[vid])):\n",
        "      idx += 1\n",
        "\n",
        "      cur_sentence = videoSentence[vid][i]\n",
        "      sentence_tokens = generate_tokens(cur_sentence)\n",
        "      embeded, mask = bert_embed(sentence_tokens, sentence_max_len)\n",
        "      mask = torch.Tensor(mask).float()\n",
        "\n",
        "      embeded_no_grad = embeded.detach() #=> (max_sentence_len, 768) \n",
        "      mask.requires_grad = False\n",
        "\n",
        "      vid_sentences.append(torch.tensor(np.expand_dims(embeded_no_grad, axis=0)).to(device))\n",
        "      vid_audio.append(embed_audio_train[idx])\n",
        "    \n",
        "    vid_sentences = torch.cat(vid_sentences, dim=0) #(utterance_count, max_sentence_len, 768)\n",
        "    vid_sentences = vid_sentences.permute([1, 0, 2]) #(max_sentence_len, utterance_count, 768)\n",
        "    encoded_video = model.encode_feature(vid_sentences).detach().to('cpu')  #(utterances_count, hidden_size=100)\n",
        "\n",
        "\n",
        "    # vid_audio = torch.tensor(vid_audio)\n",
        "    vid_audio = torch.stack(vid_audio) #(utterances_count, hidden_size=100)\n",
        "   \n",
        "\n",
        "\n",
        "    text_audio = torch.cat((encoded_video, vid_audio), 1) #(utterances_count, 2*hidden_size=200)\n",
        "\n",
        "    train_video.append(text_audio)\n",
        "    train_video_label.append(vid_labels)\n",
        "\n",
        "\n",
        "\n",
        "  idx = -1\n",
        "  for vid in testVid:\n",
        "    vid_sentences = []\n",
        "    vid_audio = []\n",
        "    vid_labels = videoLabels[vid]\n",
        "    vid_labels = torch.Tensor(vid_labels).float()\n",
        "    vid_labels.requires_grad = False\n",
        "    for i in range(len(videoSentence[vid])):\n",
        "      idx += 1\n",
        "      cur_sentence = videoSentence[vid][i]\n",
        "      sentence_tokens = generate_tokens(cur_sentence)\n",
        "      embeded, mask = bert_embed(sentence_tokens, sentence_max_len)\n",
        "      mask = torch.Tensor(mask).float()\n",
        "\n",
        "      embeded_no_grad = embeded.detach()\n",
        "      mask.requires_grad = False\n",
        "      vid_sentences.append(torch.tensor(np.expand_dims(embeded_no_grad, axis=0)).to(device))\n",
        "      vid_audio.append(embed_audio_test[idx])\n",
        "\n",
        "    vid_sentences = torch.cat(vid_sentences, dim=0) #(utterance_count, max_sentence_len, 768)\n",
        "    vid_sentences = vid_sentences.permute([1, 0, 2])\n",
        "    encoded_video = model.encode_feature(vid_sentences).detach().to('cpu')  #(utterances_count, hidden_size)\n",
        "    \n",
        "    vid_audio = torch.stack(vid_audio) #(utterances_count, hidden_size=100)\n",
        "    text_audio = torch.cat((encoded_video, vid_audio), 1) #(utterances_count, 2*hidden_size=200)\n",
        "    \n",
        "    test_video.append(text_audio)\n",
        "    test_video_label.append(vid_labels)\n",
        "  \n",
        "  return train_video, train_video_label, test_video, test_video_label\n"
      ],
      "execution_count": null,
      "outputs": []
    },
    {
      "cell_type": "code",
      "metadata": {
        "id": "8IPpwXtpgaCk"
      },
      "source": [
        "class Video_Dataset(Dataset):\n",
        "  def __init__(self, videos, video_labels, max_utterance):\n",
        "    self.data = videos\n",
        "    self.video_labels = video_labels\n",
        "    self.max_utterance = max_utterance\n",
        "\n",
        "  def __getitem__(self, idx):\n",
        "    video_utterances = self.data[idx] #=> (utterances, hidden)\n",
        "    label = self.video_labels[idx]\n",
        "    padded_utterances, utt_mask = utterances_padding(video_utterances, self.max_utterance)\n",
        "    #padded_utterances => (max_utterances, hidden of encoder)\n",
        "    #mask => (max_utterances) 0 or 1\n",
        "    padded_utterances = torch.Tensor(padded_utterances).float()\n",
        "    padded_utterances.requires_grad = False\n",
        "    utt_mask.requires_grad = False\n",
        "    padded_label, label_mask = torch.Tensor(label_padding(label, self.max_utterance)).float()\n",
        "    padded_label.requires_grad = False\n",
        "    label_mask.requires_grad = False\n",
        "    #padded_utterance => (max_utterances, hidden)\n",
        "    #label => (max_utterances)\n",
        "    #utt_mask => (max_utterances, hidden)\n",
        "    #label_mask => (max_utterances)\n",
        "    return padded_utterances, padded_label, utt_mask, label_mask\n",
        "  def __len__(self):\n",
        "    return len(self.data)"
      ],
      "execution_count": null,
      "outputs": []
    },
    {
      "cell_type": "markdown",
      "metadata": {
        "id": "st7mSyqUj_DY"
      },
      "source": [
        "# LSTM_Utterance  Training"
      ]
    },
    {
      "cell_type": "code",
      "metadata": {
        "id": "osDCDrPqfZAy"
      },
      "source": [
        "train_video, train_video_label, test_video, test_video_label = get_iemocap_encoded(trained_text_model, 49)"
      ],
      "execution_count": null,
      "outputs": []
    },
    {
      "cell_type": "code",
      "metadata": {
        "id": "VOLQdQ2Jj2ru"
      },
      "source": [
        "import itertools\n",
        "\n",
        "class Train_LSTM_Utter():\n",
        "  def __init__(self, model, sentence_max_len):\n",
        "    self.device = torch.device(\"cuda:0\" if torch.cuda.is_available() else \"cpu\")\n",
        "    print(self.device)\n",
        "    self.max_len = 10\n",
        "    self.batch_size = 4\n",
        "    self.plot_every = 8 # plot the avg loss of 8 batches\n",
        "\n",
        "    #get iemocap text data\n",
        "    #self.train_video, self.train_video_label, self.test_video, self.test_video_label = get_iemocap_encoded(model, sentence_max_len)\n",
        "    self.train_video, self.train_video_label, self.test_video, self.test_video_label = train_video, train_video_label, test_video, test_video_label\n",
        "    self.train_dataset = Video_Dataset(self.train_video, self.train_video_label, 110)\n",
        "    self.test_dataset = Video_Dataset(self.test_video, self.test_video_label, 110)\n",
        "\n",
        "    self.dataloader1 = DataLoader(self.train_dataset, batch_size=self.batch_size, shuffle=True, num_workers=4)\n",
        "    self.dataloader2 = DataLoader(self.test_dataset, batch_size=self.batch_size, shuffle=True, num_workers=4)\n",
        "\n",
        "    \n",
        "    self.net = LSTM_Utter(input_dim=model.output_dim, hidden_dim = 100, num_classes = 6).to(self.device)\n",
        "\n",
        "    self.plot_train_losses = []\n",
        "    self.plot_test_losses = []\n",
        "    self.test_acc_l = []\n",
        "    self.train_acc_l = []\n",
        "\n",
        "    self.acc_l = []\n",
        "    self.train()\n",
        "\n",
        "  def train(self):\n",
        "    lrate = 0.00005\n",
        "    print(lrate)\n",
        "    EPOCHS = 150\n",
        "    self.optimizer = optim.Adam(self.net.parameters(), lr=lrate)\n",
        "    self.scheduler = optim.lr_scheduler.ReduceLROnPlateau(self.optimizer, factor=0.75, patience=2, verbose=True)\n",
        "    #self.exp_lr_scheduler = lr_scheduler.StepLR(self.optimizer, step_size=7, gamma=0.1)\n",
        "    self.loss_function = nn.CrossEntropyLoss()\n",
        "    for epoch in range(EPOCHS):\n",
        "      batch_index = 0\n",
        "      loss_sum = 0\n",
        "      utt_count = 0\n",
        "      \n",
        "      for  X, label, utt_mask, label_mask in self.dataloader1:\n",
        "        # X => (batch, max_utterances, encoded_dim)\n",
        "        # label => (batch, max_utterances) each entry between 1 and 6\n",
        "        # utt_mask => (batch, max_utterances, encoded_dim) each entry either 0 or 1\n",
        "        # label_mask => (batch, max_utterances) each entry either 0 or 1\n",
        "        self.optimizer.zero_grad()\n",
        "        batch_index += 1\n",
        "        #print(\"x:\",np.shape(X), \"label\",np.shape(label),\"utt_mask\",np.shape(utt_mask), \"label_mask\",np.shape(label_mask)  )\n",
        "        X = X.permute([1, 0, 2])\n",
        "        #X =>(max_utterances, batch, hidden)\n",
        "        \n",
        "        X = X.to(self.device)\n",
        "        utt_mask = utt_mask.to(self.device)\n",
        "        label_mask = (label_mask.long()).to(self.device)\n",
        "        label = (label.long().to(self.device)) * label_mask\n",
        "\n",
        "        output = self.net(X, label_mask) \n",
        "        #output  => (max_utterances, batch, 6)\n",
        "\n",
        "        output = (output.permute([1, 0, 2])) #[2, 110, 6])\n",
        "        #print(\"output shape:\", np.shape(output)) \n",
        "        \n",
        "        mask = label_mask.unsqueeze(-1).repeat(1,1,6) #([2, 110, 6])\n",
        "        #print(np.shape(mask))\n",
        "        output *= mask \n",
        "        \n",
        "        #output: (batch, 110, 6) => (batch * 110, 6)\n",
        "        #label: batch, 110 => (batch * 110)\n",
        "        output = output.reshape(-1, 6) \n",
        "        label = label.reshape(-1)    \n",
        "        # print(\"after reshaping:\")\n",
        "        # print(np.shape(mask))\n",
        "        # print(np.shape(label))\n",
        "        \n",
        "        loss = self.loss_function(output, label)     \n",
        "        loss_sum += loss.item()\n",
        "\n",
        "\n",
        "        loss.backward()\n",
        "        self.optimizer.step()\n",
        "        #self.exp_lr_scheduler.step()\n",
        "      \n",
        "      avg_loss = float(loss_sum / batch_index)\n",
        "      self.plot_train_losses.append(avg_loss)\n",
        "      print(\"----------------------\")\n",
        "      print(f\"Epoch: {epoch}. Loss: {loss}\")\n",
        "      test_loss = self.test_loss(True)\n",
        "      self.scheduler.step(test_loss)\n",
        "      self.plot_test_losses.append(test_loss)\n",
        "      self.train_acc()\n",
        "      #self.plot()\n",
        "  \n",
        "  def train_acc(self):\n",
        "    with torch.no_grad():\n",
        "      num_utt = 0\n",
        "      num_correct = 0\n",
        "      batch_index = 0\n",
        "      self.preds = []\n",
        "      self.labels = []\n",
        "      for X, label, utt_mask, label_mask in self.dataloader1:\n",
        "        batch_index += 1\n",
        "        X = X.permute([1, 0, 2])\n",
        "\n",
        "        X = X.to(self.device)\n",
        "        utt_mask = utt_mask.to(self.device)\n",
        "        label_mask = (label_mask.long()).to(self.device)\n",
        "        label = (label.long().to(self.device)) * label_mask\n",
        "        if (len(label)) < self.batch_size:\n",
        "          batch_index -= 1\n",
        "          continue\n",
        "\n",
        "        output = self.net(X, label_mask) \n",
        "        output = (output.permute([1, 0, 2])) #[2, 110, 6])\n",
        "        mask = label_mask.unsqueeze(-1).repeat(1,1,6) #([2, 110, 6])\n",
        "        output *= mask \n",
        "\n",
        "        output = output.reshape(-1, 6) \n",
        "        label = label.reshape(-1)    \n",
        "        \n",
        "        loss = self.loss_function(output, label)     \n",
        "\n",
        "        pred = torch.max(output, axis=1).indices\n",
        "        mask = label_mask.reshape(-1)\n",
        "\n",
        "        \n",
        "        eq = torch.eq(label, pred)\n",
        "        num_utt += torch.sum(mask)\n",
        "        num_correct += torch.sum(mask * eq)\n",
        "      acc = float(num_correct / num_utt)\n",
        "\n",
        "    self.train_acc_l.append(acc)\n",
        "  \n",
        "  def test_loss(self, plot_conf=False):\n",
        "    with torch.no_grad():\n",
        "      test_loss_sum = 0\n",
        "      batch_index = 0\n",
        "      self.preds = []\n",
        "      self.labels = []\n",
        "      num_utt = 0\n",
        "      num_correct = 0\n",
        "      for X, label, utt_mask, label_mask in self.dataloader2:\n",
        "        batch_index += 1\n",
        "        X = X.permute([1, 0, 2])\n",
        "\n",
        "        X = X.to(self.device)\n",
        "        utt_mask = utt_mask.to(self.device)\n",
        "        label_mask = (label_mask.long()).to(self.device)\n",
        "        label = (label.long().to(self.device)) * label_mask\n",
        "        if (len(label)) < self.batch_size:\n",
        "          batch_index -= 1\n",
        "          continue\n",
        "\n",
        "        output = self.net(X, label_mask) \n",
        "        output = (output.permute([1, 0, 2])) #[2, 110, 6])\n",
        "        mask = label_mask.unsqueeze(-1).repeat(1,1,6) #([2, 110, 6])\n",
        "        output *= mask \n",
        "\n",
        "        output = output.reshape(-1, 6) \n",
        "        label = label.reshape(-1)    \n",
        "        \n",
        "        loss = self.loss_function(output, label)     \n",
        "        test_loss_sum += loss.item()\n",
        "\n",
        "        pred = torch.max(output, axis=1).indices\n",
        "        mask = label_mask.reshape(-1)\n",
        "\n",
        "        if plot_conf:\n",
        "          for i in range(len(mask)):\n",
        "            if mask[i] == 0:\n",
        "              continue\n",
        "            self.preds.append(pred[i].item())\n",
        "            self.labels.append(label[i].item())\n",
        "        \n",
        "        eq = torch.eq(label, pred)\n",
        "        num_utt += torch.sum(mask)\n",
        "        num_correct += torch.sum(mask * eq)\n",
        "      acc = float(num_correct / num_utt)\n",
        "    print(\"acc:\", acc)\n",
        "    #print(\"test loss:\", loss_sum, \"num_utt\", num_utt)\n",
        "    self.test_acc_l.append(acc)\n",
        "    return test_loss_sum / batch_index\n",
        "    \n",
        "  def plot(self):\n",
        "    plt.plot(self.plot_train_losses, 'b', label=\"train_loss\")\n",
        "    plt.plot(self.plot_test_losses, 'g', label=\"validation_loss\")\n",
        "    plt.legend()\n",
        "    plt.show()\n",
        "    plt.clf()\n",
        "  \n",
        "\n",
        "  def confusion_matrix(self):\n",
        "    #print(self.labels)\n",
        "    #print(\"------------\")\n",
        "    #print(self.preds)\n",
        "    stacked = torch.stack((torch.tensor(self.labels), torch.tensor(self.preds)),dim=1)\n",
        "    cmt = torch.zeros(6,6, dtype=torch.int64)\n",
        "    for p in stacked:\n",
        "      tl, pl = p.tolist()\n",
        "      cmt[tl, pl] = cmt[tl, pl] + 1\n",
        "    self.plot_confusion_matrix(cmt, range(6))\n",
        "\n",
        "  def plot_confusion_matrix(self, cm, classes, normalize=False, title='Confusion matrix', cmap=plt.cm.Blues):\n",
        "    if normalize:\n",
        "        cm = np.array(cm)\n",
        "        cm = cm.astype('float') / cm.sum(axis=1)[:, np.newaxis]\n",
        "        print(\"Normalized confusion matrix\")\n",
        "    else:\n",
        "        print('Confusion matrix, without normalization')\n",
        "\n",
        "    plt.imshow(cm, interpolation='nearest', cmap=cmap)\n",
        "    plt.title(title)\n",
        "    plt.colorbar()\n",
        "    tick_marks = np.arange(len(classes))\n",
        "    plt.xticks(tick_marks, classes, rotation=45)\n",
        "    plt.yticks(tick_marks, classes)\n",
        "\n",
        "    fmt = '.2f' if normalize else 'd'\n",
        "    thresh = cm.max() / 2.\n",
        "    for i, j in itertools.product(range(cm.shape[0]), range(cm.shape[1])):\n",
        "        plt.text(j, i, format(cm[i, j], fmt), horizontalalignment=\"center\", color=\"white\" if cm[i, j] > thresh else \"black\")\n",
        "\n",
        "    plt.tight_layout()\n",
        "    plt.ylabel('True label')\n",
        "    plt.xlabel('Predicted label')\n",
        "    plt.show()\n",
        "\n",
        "\n",
        "\n",
        "     "
      ],
      "execution_count": null,
      "outputs": []
    },
    {
      "cell_type": "code",
      "metadata": {
        "id": "bEmHxb0dHi6V"
      },
      "source": [
        "LSTM = Train_LSTM_Utter(trained_text_model, 49)"
      ],
      "execution_count": null,
      "outputs": []
    },
    {
      "cell_type": "code",
      "metadata": {
        "id": "zWeR15Rqqygj"
      },
      "source": [
        "plt.plot(LSTM.train_acc_l, 'b', label=\"train acc\")\n",
        "plt.plot(LSTM.test_acc_l, 'g', label=\"validation acc\")\n",
        "plt.legend()\n",
        "plt.show()"
      ],
      "execution_count": null,
      "outputs": []
    },
    {
      "cell_type": "code",
      "metadata": {
        "id": "g2VrFuEJhIPd"
      },
      "source": [
        "plt.plot(LSTM.train_acc_l, 'b', label=\"train acc\")\n",
        "plt.plot(LSTM.test_acc_l, 'g', label=\"validation acc\")\n",
        "plt.legend()\n",
        "plt.show()"
      ],
      "execution_count": null,
      "outputs": []
    },
    {
      "cell_type": "markdown",
      "metadata": {
        "id": "th5VKcgNj4TS"
      },
      "source": [
        "# Utterance Preprocessing (Extra)"
      ]
    },
    {
      "cell_type": "code",
      "metadata": {
        "colab": {
          "base_uri": "https://localhost:8080/"
        },
        "id": "uQN_8hBGrwyY",
        "outputId": "1dfe2b28-2594-4dc4-db91-af63d252adae"
      },
      "source": [
        "############### debug ####################\n",
        "# max_utterance_len = 110\n",
        "x = np.zeros((2,150))\n",
        "pdd, mask = utterance_padding(x, 110)\n",
        "print(np.shape(pdd))"
      ],
      "execution_count": null,
      "outputs": [
        {
          "output_type": "stream",
          "text": [
            "(110, 150)\n"
          ],
          "name": "stdout"
        }
      ]
    },
    {
      "cell_type": "code",
      "metadata": {
        "id": "hQ0Gnp_IsfUb"
      },
      "source": [
        "def padd():\n",
        "    videoIDs, videoSpeakers, videoLabels, videoText, videoAudio, videoVisual, videoSentence, trainVid, testVid = pickle.load(open(\"gdrive/MyDrive/IEMOCAP_features_raw.pkl\", \"rb\"), encoding='latin1')\n",
        "    max_utterance_len = 110\n",
        "    video_train_text = [] # (number of videos, max_utterance_len, hiddensize)\n",
        "    video_train_label = []\n",
        "    video_test_text = []\n",
        "    video_test_label = []\n",
        "\n",
        "    index = 0\n",
        "\n",
        "    train = train_encoded\n",
        "    test = test_encoded\n",
        "    for vid in trainVid:\n",
        "        num_utter = len(videoSentence[vid])\n",
        "        \n",
        "        utterances = np.array(train[index: index + num_utter])\n",
        "\n",
        "        for i in range(num_utter):\n",
        "            utterances[i] = np.array(utterances[i].detach())\n",
        "            print(np.shape(utterances[i]))\n",
        "        #print(np.shape(train[0]))\n",
        "        utterances = utterances.reshape(num_utter, -1)\n",
        "        print(utterances.shape)\n",
        "        utterances = utterance_padding(utterances, max_utterance_len)\n",
        "        return\n",
        "\n",
        "        labels = videoLabels[vid]\n",
        "        #print(labels)\n",
        "        padd = [i for i in range(max_utterance_len - num_utter)]\n",
        "        labels += padd\n",
        "\n",
        "        #print(np.shape(utterances))\n",
        "\n",
        "        video_train_text.append(utterances)\n",
        "        video_train_label.append(labels)\n",
        "        index += num_utter\n",
        "    \n",
        "    index = 0\n",
        "    for vid in testVid:\n",
        "        num_utter = len(videoSentence[vid])\n",
        "        \n",
        "        utterances = np.array(test[index: index + num_utter])\n",
        "        utterances = utterances.reshape(num_utter, -1)\n",
        "        utterances = utterance_padding(utterances, max_utterance_len)\n",
        "\n",
        "        labels = videoLabels[vid]\n",
        "        padd = [i for i in range(max_utterance_len - num_utter)]\n",
        "        labels += padd\n",
        "\n",
        "        video_test_text.append(utterances)\n",
        "        video_test_label.append(labels)\n",
        "    \n",
        "    return video_train_text, video_train_label, video_test_text, video_test_label\n",
        "\n"
      ],
      "execution_count": null,
      "outputs": []
    },
    {
      "cell_type": "code",
      "metadata": {
        "id": "rBVwNijB_5Wl"
      },
      "source": [
        "# From Poria's official code https://github.com/soujanyaporia/multimodal-sentiment-analysis/blob/master/dataset/iemocap/raw/IEMOCAP_features_raw.pkl.zip\n",
        "videoIDs, videoSpeakers, videoLabels, videoText, videoAudio, videoVisual, videoSentence, trainVid, testVid = pickle.load(open(\"gdrive/MyDrive/IEMOCAP_features_raw.pkl\", \"rb\"), encoding='latin1')\n",
        "\n",
        "#train_size: 120 videos.  test_size: 31 videos\n",
        "\n",
        "\n",
        "def f():\n",
        "    train_text = []\n",
        "    train_seq_len = []\n",
        "    train_label = []\n",
        "\n",
        "    test_text = []\n",
        "    test_seq_len = []\n",
        "    test_label = []\n",
        "\n",
        "    for vid in trainVid:\n",
        "        print(len(videoSentence[vid]), len(videoLabels[vid]), len(videoText[vid]))\n",
        "        for i in range(len(videoSentence[vid])):\n",
        "          cur_sentence = videoSentence[vid][i]\n",
        "          cur_label = videoLabels[vid][i]\n",
        "          train_text.append(cur_sentence)\n",
        "          train_label.append(cur_label)\n",
        "    \n",
        "    for vid in testVid:\n",
        "        for i in range(len(videoSentence[vid])):\n",
        "          cur_sentence = videoSentence[vid][i]\n",
        "          cur_label = videoLabels[vid][i]\n",
        "          test_text.append(cur_sentence)\n",
        "          test_label.append(cur_label)\n",
        "f()"
      ],
      "execution_count": null,
      "outputs": []
    },
    {
      "cell_type": "markdown",
      "metadata": {
        "id": "aU5Irc-4B6Sz"
      },
      "source": [
        "# Utterance: Dataloader"
      ]
    },
    {
      "cell_type": "code",
      "metadata": {
        "id": "4ZHlgfhWB-uY"
      },
      "source": [
        "class Utterance_dataset(Dataset):\n",
        "    def __init__(self, data, labels):\n",
        "        self.data = data\n",
        "        self.labels = labels\n",
        "      \n",
        "    def __len__(self):\n",
        "        return len(self.data)\n",
        "    \n",
        "    def __getitem__(self, idx):\n",
        "        data = torch.Tensor(self.data[idx])\n",
        "        label = torch.Tensor(self.labels[idx])\n",
        "\n",
        "        return (data, label)\n"
      ],
      "execution_count": null,
      "outputs": []
    },
    {
      "cell_type": "code",
      "metadata": {
        "id": "L1vb9Q4kLEfc"
      },
      "source": [
        "ut_train_loader = Utterance_dataset(train_encoded, train_label)\n",
        "ut_test_loader = Utterance_dataset(test_encoded, test_label)"
      ],
      "execution_count": null,
      "outputs": []
    },
    {
      "cell_type": "markdown",
      "metadata": {
        "id": "j2KQxarN1ffe"
      },
      "source": [
        "# Encoder / Decoder: prepare data"
      ]
    },
    {
      "cell_type": "code",
      "metadata": {
        "id": "hpv5QZYj1i-X"
      },
      "source": [
        "from __future__ import unicode_literals, print_function, division\n",
        "from io import open\n",
        "import unicodedata\n",
        "import string\n",
        "import re\n",
        "import random\n",
        "\n",
        "import torch\n",
        "import torch.nn as nn\n",
        "from torch import optim\n",
        "import torch.nn.functional as F\n",
        "\n",
        "device = torch.device(\"cuda\" if torch.cuda.is_available() else \"cpu\")"
      ],
      "execution_count": null,
      "outputs": []
    },
    {
      "cell_type": "code",
      "metadata": {
        "id": "mGUgozf61nDl"
      },
      "source": [
        "SOS_token = 0\n",
        "EOS_token = 1\n",
        "\n",
        "\n",
        "class Lang:\n",
        "    def __init__(self):\n",
        "        self.word2index = {}\n",
        "        self.word2count = {}\n",
        "        self.index2word = {0: \"SOS\", 1: \"EOS\"}\n",
        "        self.n_words = 2  # Count SOS and EOS\n",
        "\n",
        "    def addSentence(self, sentence):\n",
        "        for word in sentence.split(' '):\n",
        "            self.addWord(word)\n",
        "\n",
        "    def addWord(self, word):\n",
        "        if word not in self.word2index:\n",
        "            self.word2index[word] = self.n_words\n",
        "            self.word2count[word] = 1\n",
        "            self.index2word[self.n_words] = word\n",
        "            self.n_words += 1\n",
        "        else:\n",
        "            self.word2count[word] += 1"
      ],
      "execution_count": null,
      "outputs": []
    },
    {
      "cell_type": "code",
      "metadata": {
        "id": "H4SaGCTp1pJu"
      },
      "source": [
        "import pandas as pd\n",
        "import numpy as np\n",
        "import pickle\n",
        "\n",
        "# From Poria's official code https://github.com/soujanyaporia/multimodal-sentiment-analysis/blob/master/dataset/iemocap/raw/IEMOCAP_features_raw.pkl.zip\n",
        "videoIDs, videoSpeakers, videoLabels, videoText, videoAudio, videoVisual, videoSentence, trainVid, testVid = pickle.load(open(\"gdrive/MyDrive/IEMOCAP_features_raw.pkl\", \"rb\"), encoding='latin1')\n",
        "\n",
        "#train_size: 120 videos.  test_size: 31 videos\n",
        "\n",
        "\n",
        "def get_iemocap_raw():\n",
        "    train_text = []\n",
        "    train_seq_len = []\n",
        "    train_label = []\n",
        "\n",
        "    test_text = []\n",
        "    test_seq_len = []\n",
        "    test_label = []\n",
        "\n",
        "    for vid in trainVid:\n",
        "        for i in range(len(videoSentence[vid])):\n",
        "          cur_sentence = videoSentence[vid][i]\n",
        "          cur_label = videoLabels[vid][i]\n",
        "          train_text.append(cur_sentence)\n",
        "          train_label.append(cur_label)\n",
        "    \n",
        "    for vid in testVid:\n",
        "        for i in range(len(videoSentence[vid])):\n",
        "          cur_sentence = videoSentence[vid][i]\n",
        "          cur_label = videoLabels[vid][i]\n",
        "          test_text.append(cur_sentence)\n",
        "          test_label.append(cur_label)\n",
        "    \n",
        "    return train_text, train_label, test_text, test_label "
      ],
      "execution_count": null,
      "outputs": []
    },
    {
      "cell_type": "code",
      "metadata": {
        "id": "EOw3L7cL1sYJ"
      },
      "source": [
        "# Example:\n",
        "# Hi, can I help you?\n",
        "# hi can i help you ?\n",
        "def normalizeString(s):\n",
        "    s = s.lower().strip()\n",
        "    s = re.sub(r\"([.!?])\", r\" \\1\", s)\n",
        "    s = re.sub(r\"[^a-zA-Z.!?]+\", r\" \", s)\n",
        "    return s\n",
        "\n",
        "# load data into the dictionary\n",
        "def prepareData():\n",
        "  train_text, train_label, test_text, test_label = get_iemocap_raw()\n",
        "  lang = Lang()\n",
        "  cur = 0\n",
        "\n",
        "  MAX_LENGTH = 135\n",
        "\n",
        "  for s in train_text: # example of s: Hi, can I help you?\n",
        "    s = normalizeString(s)\n",
        "    lang.addSentence(s)\n",
        "  \n",
        "  for s in test_text:\n",
        "    s = normalizeString(s)\n",
        "    lang.addSentence(s)\n",
        "\n",
        "  return lang\n",
        "\n",
        "# prepareData()"
      ],
      "execution_count": null,
      "outputs": []
    },
    {
      "cell_type": "code",
      "metadata": {
        "id": "-UX2ONnV2Tb-"
      },
      "source": [
        "def indexesFromSentence(lang, sentence):\n",
        "    return [lang.word2index[word] for word in sentence.split(' ')]\n",
        "\n",
        "\n",
        "def tensorFromSentence(lang, sentence):\n",
        "    indexes = indexesFromSentence(lang, sentence)\n",
        "    indexes.append(EOS_token)\n",
        "    return torch.tensor(indexes, dtype=torch.long, device=device).view(-1, 1)\n",
        "\n",
        "\n",
        "def tensorsFromPair(pair):\n",
        "    input_tensor = tensorFromSentence(input_lang, pair[0])\n",
        "    target_tensor = tensorFromSentence(output_lang, pair[1])\n",
        "    return (input_tensor, target_tensor)"
      ],
      "execution_count": null,
      "outputs": []
    },
    {
      "cell_type": "markdown",
      "metadata": {
        "id": "vk8I4lkJ18FR"
      },
      "source": [
        "# Encoder / Decoder: Models"
      ]
    },
    {
      "cell_type": "code",
      "metadata": {
        "id": "bUKLWqXt2ATI"
      },
      "source": [
        "class EncoderRNN(nn.Module):\n",
        "    def __init__(self, input_size, hidden_size):\n",
        "        super(EncoderRNN, self).__init__()\n",
        "        self.hidden_size = hidden_size\n",
        "\n",
        "        self.embedding = nn.Embedding(input_size, hidden_size)\n",
        "        self.gru = nn.GRU(hidden_size, hidden_size)\n",
        "\n",
        "    def forward(self, input, hidden):\n",
        "        embedded = self.embedding(input).view(1, 1, -1)\n",
        "        output = embedded\n",
        "        output, hidden = self.gru(output, hidden)\n",
        "        return output, hidden\n",
        "\n",
        "    def initHidden(self):\n",
        "        return torch.zeros(1, 1, self.hidden_size, device=device)\n",
        "\n",
        "########################################################\n",
        "class DecoderRNN(nn.Module):\n",
        "    def __init__(self, hidden_size, output_size):\n",
        "        super(DecoderRNN, self).__init__()\n",
        "        self.hidden_size = hidden_size\n",
        "\n",
        "        self.embedding = nn.Embedding(output_size, hidden_size)\n",
        "        self.gru = nn.GRU(hidden_size, hidden_size)\n",
        "        self.out = nn.Linear(hidden_size, output_size)\n",
        "        self.softmax = nn.LogSoftmax(dim=1)\n",
        "\n",
        "    def forward(self, input, hidden):\n",
        "        output = self.embedding(input).view(1, 1, -1)\n",
        "        output = F.relu(output)\n",
        "        output, hidden = self.gru(output, hidden)\n",
        "        output = self.softmax(self.out(output[0]))\n",
        "        return output, hidden\n",
        "\n",
        "    def initHidden(self):\n",
        "        return torch.zeros(1, 1, self.hidden_size, device=device)\n",
        "\n",
        "\n",
        "########################################################\n",
        "class AttnDecoderRNN(nn.Module):\n",
        "    def __init__(self, hidden_size, output_size, dropout_p=0.1, max_length=135):\n",
        "        super(AttnDecoderRNN, self).__init__()\n",
        "        self.hidden_size = hidden_size\n",
        "        self.output_size = output_size\n",
        "        self.dropout_p = dropout_p\n",
        "        self.max_length = max_length\n",
        "\n",
        "        self.embedding = nn.Embedding(self.output_size, self.hidden_size)\n",
        "        self.attn = nn.Linear(self.hidden_size * 2, self.max_length)\n",
        "        self.attn_combine = nn.Linear(self.hidden_size * 2, self.hidden_size)\n",
        "        self.dropout = nn.Dropout(self.dropout_p)\n",
        "        self.gru = nn.GRU(self.hidden_size, self.hidden_size)\n",
        "        self.out = nn.Linear(self.hidden_size, self.output_size)\n",
        "\n",
        "    def forward(self, input, hidden, encoder_outputs):\n",
        "        embedded = self.embedding(input).view(1, 1, -1)\n",
        "        embedded = self.dropout(embedded)\n",
        "\n",
        "        attn_weights = F.softmax(\n",
        "            self.attn(torch.cat((embedded[0], hidden[0]), 1)), dim=1)\n",
        "        attn_applied = torch.bmm(attn_weights.unsqueeze(0),\n",
        "                                 encoder_outputs.unsqueeze(0))\n",
        "\n",
        "        output = torch.cat((embedded[0], attn_applied[0]), 1)\n",
        "        output = self.attn_combine(output).unsqueeze(0)\n",
        "\n",
        "        output = F.relu(output)\n",
        "        output, hidden = self.gru(output, hidden)\n",
        "\n",
        "        output = F.log_softmax(self.out(output[0]), dim=1)\n",
        "        return output, hidden, attn_weights\n",
        "\n",
        "    def initHidden(self):\n",
        "        return torch.zeros(1, 1, self.hidden_size, device=device)"
      ],
      "execution_count": null,
      "outputs": []
    },
    {
      "cell_type": "markdown",
      "metadata": {
        "id": "gY7Upqnt2XuZ"
      },
      "source": [
        "# Encoder / Decoder: train"
      ]
    },
    {
      "cell_type": "code",
      "metadata": {
        "id": "cDpMppie2dI_"
      },
      "source": [
        "teacher_forcing_ratio = 0.5\n",
        "\n",
        "\n",
        "def train(input_tensor, target_tensor, encoder, decoder, encoder_optimizer, decoder_optimizer, criterion, max_length=135):\n",
        "    encoder_hidden = encoder.initHidden()\n",
        "\n",
        "    encoder_optimizer.zero_grad()\n",
        "    decoder_optimizer.zero_grad()\n",
        "\n",
        "    input_length = input_tensor.size(0)\n",
        "    target_length = target_tensor.size(0)\n",
        "\n",
        "    encoder_outputs = torch.zeros(max_length, encoder.hidden_size, device=device)\n",
        "\n",
        "    loss = 0\n",
        "\n",
        "    for ei in range(input_length):\n",
        "        encoder_output, encoder_hidden = encoder(\n",
        "            input_tensor[ei], encoder_hidden)\n",
        "        encoder_outputs[ei] = encoder_output[0, 0]\n",
        "\n",
        "    decoder_input = torch.tensor([[SOS_token]], device=device)\n",
        "\n",
        "    decoder_hidden = encoder_hidden\n",
        "\n",
        "    use_teacher_forcing = True if random.random() < teacher_forcing_ratio else False\n",
        "\n",
        "    if use_teacher_forcing:\n",
        "        # Teacher forcing: Feed the target as the next input\n",
        "        for di in range(target_length):\n",
        "            decoder_output, decoder_hidden, decoder_attention = decoder(\n",
        "                decoder_input, decoder_hidden, encoder_outputs)\n",
        "            loss += criterion(decoder_output, target_tensor[di])\n",
        "            decoder_input = target_tensor[di]  # Teacher forcing\n",
        "\n",
        "    else:\n",
        "        # Without teacher forcing: use its own predictions as the next input\n",
        "        for di in range(target_length):\n",
        "            decoder_output, decoder_hidden, decoder_attention = decoder(\n",
        "                decoder_input, decoder_hidden, encoder_outputs)\n",
        "            topv, topi = decoder_output.topk(1)\n",
        "            decoder_input = topi.squeeze().detach()  # detach from history as input\n",
        "\n",
        "            loss += criterion(decoder_output, target_tensor[di])\n",
        "            if decoder_input.item() == EOS_token:\n",
        "                break\n",
        "\n",
        "    loss.backward()\n",
        "\n",
        "    encoder_optimizer.step()\n",
        "    decoder_optimizer.step()\n",
        "\n",
        "    return loss.item()\n",
        "  \n",
        "def evaluate(input_tensor, target_tensor, encoder, decoder, criterion, max_length=135):\n",
        "    with torch.no_grad():\n",
        "        input_length = input_tensor.size(0)\n",
        "        target_length = target_tensor.size(0)\n",
        "        encoder_hidden = encoder.initHidden()\n",
        "\n",
        "        encoder_outputs = torch.zeros(max_length, encoder.hidden_size, device=device)\n",
        "\n",
        "        loss = 0\n",
        "\n",
        "        for ei in range(input_length):\n",
        "            encoder_output, encoder_hidden = encoder(input_tensor[ei],\n",
        "                                                     encoder_hidden)\n",
        "            encoder_outputs[ei] = encoder_output[0, 0]\n",
        "\n",
        "        decoder_input = torch.tensor([[SOS_token]], device=device)  # SOS\n",
        "\n",
        "        decoder_hidden = encoder_hidden\n",
        "\n",
        "        decoded_words = []\n",
        "        #decoder_attentions = torch.zeros(max_length, max_length)\n",
        "\n",
        "        use_teacher_forcing = True if random.random() < teacher_forcing_ratio else False\n",
        "\n",
        "        if use_teacher_forcing:\n",
        "            # Teacher forcing: Feed the target as the next input\n",
        "            for di in range(target_length):\n",
        "                decoder_output, decoder_hidden, decoder_attention = decoder(\n",
        "                    decoder_input, decoder_hidden, encoder_outputs)\n",
        "                loss += criterion(decoder_output, target_tensor[di])\n",
        "                decoder_input = target_tensor[di]  # Teacher forcing\n",
        "\n",
        "        else:\n",
        "            # Without teacher forcing: use its own predictions as the next input\n",
        "            for di in range(target_length):\n",
        "                decoder_output, decoder_hidden, decoder_attention = decoder(\n",
        "                    decoder_input, decoder_hidden, encoder_outputs)\n",
        "                topv, topi = decoder_output.topk(1)\n",
        "                decoder_input = topi.squeeze().detach()  # detach from history as input\n",
        "\n",
        "                loss += criterion(decoder_output, target_tensor[di])\n",
        "                if decoder_input.item() == EOS_token:\n",
        "                    break\n",
        "\n",
        "\n",
        "        return loss.item()"
      ],
      "execution_count": null,
      "outputs": []
    },
    {
      "cell_type": "code",
      "metadata": {
        "id": "EsLDC4wQ2f7U"
      },
      "source": [
        "import matplotlib.pyplot as plt\n",
        "%matplotlib inline\n",
        "\n",
        "# get raw data and lang dict\n",
        "train_text, train_label, test_text, test_label = get_iemocap_raw()\n",
        "\n",
        "def trainIters(lang, encoder, decoder, n_iters, print_every=1000, plot_every=100, learning_rate=0.001):\n",
        "    # start = time.time()\n",
        "    EPOCHS = 0\n",
        "    plot_losses = []\n",
        "    print_loss_total = 0  # Reset every print_every\n",
        "\n",
        "    encoder_optimizer = optim.SGD(encoder.parameters(), lr=learning_rate)\n",
        "    decoder_optimizer = optim.SGD(decoder.parameters(), lr=learning_rate)\n",
        "    \n",
        "    criterion = nn.NLLLoss()\n",
        "\n",
        "    train_losses = []\n",
        "    test_losses = []\n",
        "\n",
        "    \n",
        "\n",
        "    print(\"enter\")\n",
        "\n",
        "    for epoch in range(EPOCHS):\n",
        "      for i in range(len(train_text)):\n",
        "          \n",
        "          s = normalizeString(train_text[i])\n",
        "          input_tensor = tensorFromSentence(lang, s)\n",
        "          target_tensor = input_tensor # want to reconstruct the input from decoder\n",
        "\n",
        "          loss = train(input_tensor, target_tensor, encoder,\n",
        "                      decoder, encoder_optimizer, decoder_optimizer, criterion)\n",
        "          print_loss_total += loss\n",
        "  \n",
        "\n",
        "          if i > 0 and i % print_every == 0:\n",
        "              print_loss_avg = print_loss_total / print_every\n",
        "              print_loss_total = 0\n",
        "              train_losses.append(print_loss_avg)\n",
        "\n",
        "              # run model on test data\n",
        "              test_loss = 0\n",
        "              for j in range(len(test_text)):\n",
        "                  s = normalizeString(test_text[j])\n",
        "                  input_tensor = tensorFromSentence(lang, s)\n",
        "                  target_tensor = input_tensor\n",
        "                  test_loss += evaluate(input_tensor, target_tensor, encoder,\n",
        "                      decoder, criterion) \n",
        "              test_losses.append(test_loss / len(test_text))\n",
        "\n",
        "      plot(train_losses, test_losses)\n",
        "    \n",
        "    \n",
        "    train_encoded = []\n",
        "    test_encoded = []\n",
        "    max_length=135\n",
        "    for i in range(len(train_text)):\n",
        "      s = normalizeString(train_text[i])\n",
        "      input_tensor = tensorFromSentence(lang, s)\n",
        "      encoder_hidden = encoder.initHidden()\n",
        "      input_length = input_tensor.size(0)\n",
        "      encoder_outputs = torch.zeros(max_length, encoder.hidden_size, device=device)\n",
        "      \n",
        "      for ei in range(input_length):\n",
        "        encoder_output, encoder_hidden = encoder(\n",
        "            input_tensor[ei], encoder_hidden)\n",
        "        encoder_outputs[ei] = encoder_output[0, 0]\n",
        "      train_encoded.append(encoder_outputs)\n",
        "    \n",
        "    for i in range(len(test_text)):\n",
        "      s = normalizeString(test_text[i])  \n",
        "      input_tensor = tensorFromSentence(lang, s)\n",
        "      encoder_hidden = encoder.initHidden()\n",
        "      input_length = input_tensor.size(0)\n",
        "      encoder_outputs = torch.zeros(max_length, encoder.hidden_size, device=device)\n",
        "      \n",
        "      for ei in range(input_length):\n",
        "        encoder_output, encoder_hidden = encoder(\n",
        "        input_tensor[ei], encoder_hidden)\n",
        "        encoder_outputs[ei] = encoder_output[0, 0]\n",
        "      test_encoded.append(encoder_outputs)\n",
        " \n",
        "    print(2)\n",
        "    return train_encoded, test_encoded\n",
        " \n",
        "def plot(train_losses, test_losses):\n",
        "    plt.plot(train_losses, 'b', label=\"train_loss\")\n",
        "    plt.plot(test_losses, 'g', label=\"test_loss\")\n",
        "    plt.legend()\n",
        "    plt.show()\n",
        "\n"
      ],
      "execution_count": null,
      "outputs": []
    },
    {
      "cell_type": "markdown",
      "metadata": {
        "id": "q3pMYqTW2ljS"
      },
      "source": [
        "**Train commands**"
      ]
    },
    {
      "cell_type": "code",
      "metadata": {
        "colab": {
          "base_uri": "https://localhost:8080/"
        },
        "id": "To2HuL3FE4W0",
        "outputId": "7cff34a3-51cd-4dc0-805f-a2b70117e7f7"
      },
      "source": [
        "hidden_size = 100\n",
        "lang = prepareData()\n",
        "\n",
        "encoder1 = EncoderRNN(lang.n_words, hidden_size).to(device)\n",
        "attn_decoder1 = AttnDecoderRNN(hidden_size, lang.n_words, dropout_p=0.1).to(device)\n",
        "\n",
        "train_encoded, test_encoded = trainIters(lang, encoder1, attn_decoder1, 75000, print_every=1000)"
      ],
      "execution_count": null,
      "outputs": [
        {
          "output_type": "stream",
          "text": [
            "enter\n",
            "2\n"
          ],
          "name": "stdout"
        }
      ]
    },
    {
      "cell_type": "code",
      "metadata": {
        "colab": {
          "base_uri": "https://localhost:8080/"
        },
        "id": "9MAZFHe-GyZ_",
        "outputId": "ecad550c-6641-4167-c27e-5274d84a439f"
      },
      "source": [
        "########### for debug ##############\n",
        "print(np.shape(train_encoded)) # 5810\n",
        "print(np.shape(test_encoded)) # 1623\n",
        "print(np.shape(train_encoded[0])) # (max len hiddeen size)\n",
        "print(np.shape(test_encoded[0]))"
      ],
      "execution_count": null,
      "outputs": [
        {
          "output_type": "stream",
          "text": [
            "(5810,)\n",
            "(1623,)\n",
            "torch.Size([135, 100])\n",
            "torch.Size([135, 100])\n"
          ],
          "name": "stdout"
        }
      ]
    },
    {
      "cell_type": "code",
      "metadata": {
        "colab": {
          "base_uri": "https://localhost:8080/",
          "height": 281
        },
        "id": "Lq9hJe542psk",
        "outputId": "0cd58675-bbf6-4f14-a796-00af79d4bb03"
      },
      "source": [
        "########### for debug ##############\n",
        "hidden_size = 128\n",
        "lang = prepareData()\n",
        "\n",
        "encoder1 = EncoderRNN(lang.n_words, hidden_size).to(device)\n",
        "attn_decoder1 = AttnDecoderRNN(hidden_size, lang.n_words, dropout_p=0.1).to(device)\n",
        "\n",
        "encoder, decoder = trainIters(lang, encoder1, attn_decoder1, 75000, print_every=1000)"
      ],
      "execution_count": null,
      "outputs": [
        {
          "output_type": "stream",
          "text": [
            "enter\n"
          ],
          "name": "stdout"
        },
        {
          "output_type": "display_data",
          "data": {
            "image/png": "[encoded data removed]",
            "text/plain": [
              "<Figure size 432x288 with 1 Axes>"
            ]
          },
          "metadata": {
            "tags": []
          }
        }
      ]
    },
    {
      "cell_type": "code",
      "metadata": {
        "id": "Ezs1aSjC9hzI"
      },
      "source": [
        ""
      ],
      "execution_count": null,
      "outputs": []
    }
  ]
}